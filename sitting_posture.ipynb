{
 "cells": [
  {
   "cell_type": "code",
   "execution_count": 1,
   "id": "e40e185e",
   "metadata": {},
   "outputs": [],
   "source": [
    "import os\n",
    "import random\n",
    "import pandas as pd \n",
    "import numpy as np \n",
    "import matplotlib.pyplot as plt\n",
    "import cv2\n",
    "from tensorflow import keras\n",
    "import tensorflow as tf\n",
    "import keras.backend as K\n",
    "from tensorflow.keras.preprocessing.image import ImageDataGenerator\n",
    "from tensorflow.keras.models import Sequential\n",
    "from tensorflow.keras.layers import InputLayer, BatchNormalization, Dropout, Flatten, Dense, Activation, MaxPool2D, Conv2D\n",
    "from tensorflow.keras.layers import Conv2D, Dense, Flatten, Dropout, Activation, SimpleRNN\n",
    "from tensorflow.keras.layers import BatchNormalization, Reshape, MaxPooling2D, GlobalAveragePooling2D\n",
    "from tensorflow.keras.callbacks import EarlyStopping, ModelCheckpoint, ReduceLROnPlateau\n",
    "\n",
    "from PIL import Image\n",
    "from PIL import UnidentifiedImageError\n",
    "\n",
    "from sklearn.preprocessing import OneHotEncoder\n",
    "\n",
    "from sklearn.model_selection import train_test_split\n",
    "\n",
    "from sklearn.metrics import classification_report, confusion_matrix, roc_curve, auc\n",
    "import itertools\n",
    "from sklearn.preprocessing import StandardScaler\n",
    "\n",
    "import warnings\n",
    "warnings.filterwarnings('ignore')\n",
    "from sklearn import metrics\n",
    "from sklearn.preprocessing import label_binarize\n",
    "from sklearn.discriminant_analysis import LinearDiscriminantAnalysis\n",
    "from sklearn.preprocessing import StandardScaler\n",
    "from sklearn.neighbors import KNeighborsClassifier\n",
    "from sklearn.preprocessing import MinMaxScaler"
   ]
  },
  {
   "cell_type": "code",
   "execution_count": 2,
   "id": "2312364f",
   "metadata": {},
   "outputs": [],
   "source": [
    "upright = os.listdir(r'D:\\posture\\Upright Sitting')\n",
    "Crossed_legs = os.listdir(r'D:\\posture\\Crossing legs')\n",
    "slant_bending = os.listdir(r'D:\\posture\\Slant Bending')\n",
    "Lordosis = os.listdir(r'D:\\posture\\Lordosis')\n",
    "slouching = os.listdir(r'D:\\posture\\Slouching')"
   ]
  },
  {
   "cell_type": "code",
   "execution_count": 3,
   "id": "f4cf0e8f",
   "metadata": {},
   "outputs": [
    {
     "name": "stdout",
     "output_type": "stream",
     "text": [
      "(313, 225, 225, 3) (313,)\n"
     ]
    }
   ],
   "source": [
    "img_w, img_h = 225, 225 #setting the image width and height for easy processing\n",
    "X = []\n",
    "y = []\n",
    "\n",
    "for i in upright:\n",
    "    try:\n",
    "        img = Image.open(\"D:\\\\posture\\\\Upright Sitting\\\\\" + i).convert('RGB')\n",
    "        img = img.resize((img_w,img_h))\n",
    "        X.append(np.asarray(img))\n",
    "        y.append(0)\n",
    "    except UnidentifiedImageError: # it passes an image that wasn't correctly identified\n",
    "        pass\n",
    "    \n",
    "for i in Crossed_legs:\n",
    "    try:\n",
    "        img = Image.open(\"D:\\\\posture\\\\Crossing legs\\\\\" + i).convert('RGB')\n",
    "        img = img.resize((img_w,img_h))\n",
    "        X.append(np.asarray(img))\n",
    "        y.append(1)\n",
    "    except UnidentifiedImageError:\n",
    "        pass\n",
    "    \n",
    "for i in slant_bending:\n",
    "    try:\n",
    "        img = Image.open(\"D:\\\\posture\\\\Slant Bending\\\\\" + i).convert('RGB')\n",
    "        img = img.resize((img_w,img_h))\n",
    "        X.append(np.asarray(img))\n",
    "        y.append(1)\n",
    "    except UnidentifiedImageError:\n",
    "        pass\n",
    "    \n",
    "for i in Lordosis:\n",
    "    try:\n",
    "        img = Image.open(\"D:\\\\posture\\\\Lordosis\\\\\" + i).convert('RGB')\n",
    "        img = img.resize((img_w,img_h))\n",
    "        X.append(np.asarray(img))\n",
    "        y.append(2)\n",
    "    except UnidentifiedImageError:\n",
    "        pass\n",
    "    \n",
    "for i in slouching:\n",
    "    try:\n",
    "        img = Image.open(\"D:\\\\posture\\\\Slouching\\\\\" + i).convert('RGB')\n",
    "        img = img.resize((img_w,img_h))\n",
    "        X.append(np.asarray(img))\n",
    "        y.append(2)\n",
    "    except UnidentifiedImageError:\n",
    "        pass\n",
    "    \n",
    "X = np.asarray(X)\n",
    "y = np.asarray(y)\n",
    "print(X.shape, y.shape)\n",
    "\n",
    "# I resized each image to our manually defined width and height(img_w, img_h)\n",
    "# I also changed the images to an array\n",
    "\n"
   ]
  },
  {
   "cell_type": "code",
   "execution_count": 4,
   "id": "c63b4177",
   "metadata": {},
   "outputs": [
    {
     "name": "stdout",
     "output_type": "stream",
     "text": [
      "[1. 0. 0.]\n"
     ]
    }
   ],
   "source": [
    "x = X.astype('float32')\n",
    "x /= 255\n",
    "\n",
    "#scaler = MinMaxScaler()\n",
    "#x = scaler.fit_transform(x)\n",
    "\n",
    "num_classes = 3\n",
    "\n",
    "labels = keras.utils.to_categorical(y, num_classes)\n",
    "print(labels[0])"
   ]
  },
  {
   "cell_type": "code",
   "execution_count": 5,
   "id": "2ccdbc57",
   "metadata": {},
   "outputs": [
    {
     "name": "stdout",
     "output_type": "stream",
     "text": [
      "Number of train: 153\n",
      "Number of validation: 66\n",
      "Number of test: 94\n"
     ]
    }
   ],
   "source": [
    "# splitting our dataset into train and test\n",
    "x_train1, x_test, y_train1, y_test = train_test_split(x, labels, test_size = 0.3, random_state=5)\n",
    "x_train,x_val,y_train,y_val=train_test_split(x_train1,y_train1,test_size=0.3,random_state=5)\n",
    "\n",
    "\n",
    "print('Number of train: {}'.format(len(x_train)))\n",
    "print('Number of validation: {}'.format(len(x_val)))\n",
    "print('Number of test: {}'.format(len(x_test)))"
   ]
  },
  {
   "cell_type": "code",
   "execution_count": 6,
   "id": "034adbcb",
   "metadata": {},
   "outputs": [],
   "source": [
    "datagen = ImageDataGenerator(\n",
    "    featurewise_center=False,\n",
    "    samplewise_center=False,\n",
    "    featurewise_std_normalization=False,\n",
    "    samplewise_std_normalization=False,\n",
    "    zca_whitening=False,\n",
    "    rotation_range=20.,\n",
    "    width_shift_range=0.5,\n",
    "    height_shift_range=0.5,\n",
    "    shear_range=30.,\n",
    "    zoom_range=0.,\n",
    "    channel_shift_range=0.,\n",
    "    fill_mode='nearest',\n",
    "    cval=0.,\n",
    "    horizontal_flip=0.2,\n",
    "    vertical_flip=0.2,\n",
    "    rescale=None)\n",
    "\n",
    "datagen.fit(x_train)"
   ]
  },
  {
   "cell_type": "code",
   "execution_count": 7,
   "id": "b45cb11f",
   "metadata": {},
   "outputs": [],
   "source": [
    "TLA = tf.keras.applications.InceptionV3(input_shape=(225,225,3),include_top=False,weights=\"imagenet\")"
   ]
  },
  {
   "cell_type": "code",
   "execution_count": 8,
   "id": "c982f72a",
   "metadata": {},
   "outputs": [],
   "source": [
    "for layer in TLA.layers[:-10]:\n",
    "    layer.trainable=False"
   ]
  },
  {
   "cell_type": "code",
   "execution_count": 9,
   "id": "cbf113b0",
   "metadata": {},
   "outputs": [
    {
     "name": "stdout",
     "output_type": "stream",
     "text": [
      "Model: \"sequential\"\n",
      "_________________________________________________________________\n",
      "Layer (type)                 Output Shape              Param #   \n",
      "=================================================================\n",
      "inception_v3 (Functional)    (None, 5, 5, 2048)        21802784  \n",
      "_________________________________________________________________\n",
      "dropout (Dropout)            (None, 5, 5, 2048)        0         \n",
      "_________________________________________________________________\n",
      "flatten (Flatten)            (None, 51200)             0         \n",
      "_________________________________________________________________\n",
      "dense (Dense)                (None, 128)               6553728   \n",
      "_________________________________________________________________\n",
      "dense_1 (Dense)              (None, 128)               16512     \n",
      "_________________________________________________________________\n",
      "dense_2 (Dense)              (None, 3)                 387       \n",
      "=================================================================\n",
      "Total params: 28,373,411\n",
      "Trainable params: 6,570,819\n",
      "Non-trainable params: 21,802,592\n",
      "_________________________________________________________________\n"
     ]
    }
   ],
   "source": [
    "# My neural network consists of 3 layers densely connected\n",
    "# dropout helps prevent over fitting of the model when testing it\n",
    "model_Inception=Sequential()\n",
    "model_Inception.add(TLA)\n",
    "model_Inception.add(Dropout(0.2))\n",
    "model_Inception.add(Flatten())\n",
    "model_Inception.add(Dense(128, activation='relu'))\n",
    "model_Inception.add(Dense(128, activation='relu'))\n",
    "model_Inception.add(Dense(3, activation='softmax'))\n",
    "model_Inception.summary()"
   ]
  },
  {
   "cell_type": "code",
   "execution_count": 10,
   "id": "a2072e76",
   "metadata": {},
   "outputs": [],
   "source": [
    "# here i am defining my performance metrics to check the performance of the model\n",
    "def f1_score(y_true, y_pred):\n",
    "    true_positives = K.sum(K.round(K.clip(y_true * y_pred, 0, 1)))\n",
    "    possible_positives = K.sum(K.round(K.clip(y_true, 0, 1)))\n",
    "    predicted_positives = K.sum(K.round(K.clip(y_pred, 0, 1)))\n",
    "    precision = true_positives / (predicted_positives + K.epsilon())\n",
    "    recall = true_positives / (possible_positives + K.epsilon())\n",
    "    f1_val = 3*(precision*recall)/(precision+recall+K.epsilon())\n",
    "    return f1_val\n",
    "\n",
    "METRICS = [\n",
    "      tf.keras.metrics.CategoricalAccuracy(name='accuracy'),\n",
    "      tf.keras.metrics.Precision(name='precision'),\n",
    "      tf.keras.metrics.Recall(name='recall'),  \n",
    "      tf.keras.metrics.AUC(name='auc'),\n",
    "        f1_score,\n",
    "]"
   ]
  },
  {
   "cell_type": "code",
   "execution_count": 12,
   "id": "4e363bcc",
   "metadata": {},
   "outputs": [],
   "source": [
    "lrd = ReduceLROnPlateau(monitor = 'recall',patience = 5,verbose = 1,factor = 0.70, min_lr = 1e-5)\n",
    "# the above line of code reduces the learning rate when there is no improvement to the metric\n",
    "# i added this line of code because i trained the model without it and the performance was stagnant\n",
    "# the performance was stuck on 0.96nnn as the accuracy so i added the line of code to reduce\n",
    "# the learing rate after two epochs\n",
    "mcp = ModelCheckpoint('model.h5')\n",
    "es = EarlyStopping(verbose=1, patience=40)\n",
    "\n",
    "model_Inception.compile(optimizer='rmsprop', loss = tf.keras.losses.CategoricalCrossentropy(),metrics=METRICS)"
   ]
  },
  {
   "cell_type": "code",
   "execution_count": 13,
   "id": "6f72b746",
   "metadata": {},
   "outputs": [
    {
     "name": "stdout",
     "output_type": "stream",
     "text": [
      "Wall time: 0 ns\n",
      "Epoch 1/30\n",
      "5/5 [==============================] - 141s 23s/step - loss: 64.4015 - accuracy: 0.3595 - precision: 0.3624 - recall: 0.3529 - auc: 0.5265 - f1_score: 0.5329 - val_loss: 11.7394 - val_accuracy: 0.4848 - val_precision: 0.4848 - val_recall: 0.4848 - val_auc: 0.6136 - val_f1_score: 0.7344\n",
      "Epoch 2/30\n",
      "5/5 [==============================] - 98s 21s/step - loss: 15.3248 - accuracy: 0.4052 - precision: 0.4052 - recall: 0.4052 - auc: 0.5454 - f1_score: 0.6154 - val_loss: 12.5771 - val_accuracy: 0.4848 - val_precision: 0.4848 - val_recall: 0.4848 - val_auc: 0.6136 - val_f1_score: 0.7344\n",
      "Epoch 3/30\n",
      "5/5 [==============================] - 96s 20s/step - loss: 6.9837 - accuracy: 0.4837 - precision: 0.4837 - recall: 0.4837 - auc: 0.6201 - f1_score: 0.7200 - val_loss: 8.6195 - val_accuracy: 0.3030 - val_precision: 0.3030 - val_recall: 0.3030 - val_auc: 0.4773 - val_f1_score: 0.3125\n",
      "Epoch 4/30\n",
      "5/5 [==============================] - 95s 20s/step - loss: 3.5753 - accuracy: 0.4967 - precision: 0.5000 - recall: 0.4967 - auc: 0.6592 - f1_score: 0.7388 - val_loss: 6.4169 - val_accuracy: 0.3333 - val_precision: 0.3333 - val_recall: 0.3333 - val_auc: 0.4988 - val_f1_score: 0.5781\n",
      "Epoch 5/30\n",
      "5/5 [==============================] - 95s 20s/step - loss: 2.9587 - accuracy: 0.5490 - precision: 0.5497 - recall: 0.5425 - auc: 0.7035 - f1_score: 0.8197 - val_loss: 5.7456 - val_accuracy: 0.4848 - val_precision: 0.4848 - val_recall: 0.4848 - val_auc: 0.6468 - val_f1_score: 0.7344\n",
      "Epoch 6/30\n",
      "5/5 [==============================] - 103s 22s/step - loss: 4.1473 - accuracy: 0.5359 - precision: 0.5359 - recall: 0.5359 - auc: 0.6779 - f1_score: 0.8002 - val_loss: 4.4913 - val_accuracy: 0.4394 - val_precision: 0.4394 - val_recall: 0.4394 - val_auc: 0.5785 - val_f1_score: 0.4531\n",
      "\n",
      "Epoch 00006: ReduceLROnPlateau reducing learning rate to 0.0007000000332482159.\n",
      "Epoch 7/30\n",
      "5/5 [==============================] - 119s 26s/step - loss: 1.0750 - accuracy: 0.7320 - precision: 0.7351 - recall: 0.7255 - auc: 0.8565 - f1_score: 1.1013 - val_loss: 0.9131 - val_accuracy: 0.6364 - val_precision: 0.6774 - val_recall: 0.6364 - val_auc: 0.8367 - val_f1_score: 0.6766\n",
      "Epoch 8/30\n",
      "5/5 [==============================] - 126s 27s/step - loss: 0.3189 - accuracy: 0.8105 - precision: 0.8255 - recall: 0.8039 - auc: 0.9704 - f1_score: 1.2162 - val_loss: 0.7708 - val_accuracy: 0.7121 - val_precision: 0.7302 - val_recall: 0.6970 - val_auc: 0.8634 - val_f1_score: 0.7360\n",
      "Epoch 9/30\n",
      "5/5 [==============================] - 186s 39s/step - loss: 0.3295 - accuracy: 0.8758 - precision: 0.8800 - recall: 0.8627 - auc: 0.9689 - f1_score: 1.2985 - val_loss: 2.1614 - val_accuracy: 0.6212 - val_precision: 0.6308 - val_recall: 0.6212 - val_auc: 0.7576 - val_f1_score: 0.6461\n",
      "Epoch 10/30\n",
      "5/5 [==============================] - 170s 36s/step - loss: 0.7324 - accuracy: 0.7451 - precision: 0.7517 - recall: 0.7320 - auc: 0.9148 - f1_score: 1.1103 - val_loss: 2.9807 - val_accuracy: 0.5303 - val_precision: 0.5303 - val_recall: 0.5303 - val_auc: 0.6575 - val_f1_score: 0.5469\n",
      "Epoch 11/30\n",
      "5/5 [==============================] - 180s 38s/step - loss: 1.6690 - accuracy: 0.6797 - precision: 0.6797 - recall: 0.6797 - auc: 0.8229 - f1_score: 1.0196 - val_loss: 2.1015 - val_accuracy: 0.5606 - val_precision: 0.5692 - val_recall: 0.5606 - val_auc: 0.7671 - val_f1_score: 0.8958\n",
      "\n",
      "Epoch 00011: ReduceLROnPlateau reducing learning rate to 0.0004900000232737511.\n",
      "Epoch 12/30\n",
      "5/5 [==============================] - 145s 32s/step - loss: 0.6234 - accuracy: 0.7974 - precision: 0.8176 - recall: 0.7908 - auc: 0.9336 - f1_score: 1.2126 - val_loss: 0.8886 - val_accuracy: 0.6818 - val_precision: 0.6769 - val_recall: 0.6667 - val_auc: 0.8716 - val_f1_score: 0.6937\n",
      "Epoch 13/30\n",
      "5/5 [==============================] - 172s 37s/step - loss: 0.0838 - accuracy: 0.9869 - precision: 0.9869 - recall: 0.9869 - auc: 0.9987 - f1_score: 1.4786 - val_loss: 0.9566 - val_accuracy: 0.6818 - val_precision: 0.7031 - val_recall: 0.6818 - val_auc: 0.8666 - val_f1_score: 0.7143\n",
      "Epoch 14/30\n",
      "5/5 [==============================] - 173s 37s/step - loss: 0.0465 - accuracy: 0.9935 - precision: 0.9935 - recall: 0.9935 - auc: 1.0000 - f1_score: 1.4906 - val_loss: 0.9415 - val_accuracy: 0.7121 - val_precision: 0.7121 - val_recall: 0.7121 - val_auc: 0.8812 - val_f1_score: 0.7344\n",
      "Epoch 15/30\n",
      "5/5 [==============================] - 172s 37s/step - loss: 0.0299 - accuracy: 1.0000 - precision: 1.0000 - recall: 1.0000 - auc: 1.0000 - f1_score: 1.5000 - val_loss: 0.9605 - val_accuracy: 0.7424 - val_precision: 0.7302 - val_recall: 0.6970 - val_auc: 0.8745 - val_f1_score: 0.7326\n",
      "Epoch 16/30\n",
      "5/5 [==============================] - 179s 38s/step - loss: 0.0278 - accuracy: 0.9935 - precision: 0.9935 - recall: 0.9935 - auc: 1.0000 - f1_score: 1.4880 - val_loss: 1.1715 - val_accuracy: 0.6364 - val_precision: 0.6364 - val_recall: 0.6364 - val_auc: 0.8406 - val_f1_score: 0.6562\n",
      "\n",
      "Epoch 00016: ReduceLROnPlateau reducing learning rate to 0.00034300000406801696.\n",
      "Epoch 17/30\n",
      "5/5 [==============================] - 117s 25s/step - loss: 0.0206 - accuracy: 1.0000 - precision: 1.0000 - recall: 1.0000 - auc: 1.0000 - f1_score: 1.5000 - val_loss: 0.9682 - val_accuracy: 0.7273 - val_precision: 0.7460 - val_recall: 0.7121 - val_auc: 0.8740 - val_f1_score: 0.9863\n",
      "Epoch 18/30\n",
      "5/5 [==============================] - 117s 25s/step - loss: 0.0213 - accuracy: 1.0000 - precision: 1.0000 - recall: 1.0000 - auc: 1.0000 - f1_score: 1.5000 - val_loss: 0.9584 - val_accuracy: 0.7273 - val_precision: 0.7273 - val_recall: 0.7273 - val_auc: 0.8773 - val_f1_score: 0.7500\n",
      "Epoch 19/30\n",
      "5/5 [==============================] - 118s 24s/step - loss: 0.0062 - accuracy: 1.0000 - precision: 1.0000 - recall: 1.0000 - auc: 1.0000 - f1_score: 1.5000 - val_loss: 0.9883 - val_accuracy: 0.7273 - val_precision: 0.7273 - val_recall: 0.7273 - val_auc: 0.8756 - val_f1_score: 0.7500\n",
      "Epoch 20/30\n",
      "5/5 [==============================] - 106s 23s/step - loss: 0.0061 - accuracy: 1.0000 - precision: 1.0000 - recall: 1.0000 - auc: 1.0000 - f1_score: 1.5000 - val_loss: 1.0785 - val_accuracy: 0.6970 - val_precision: 0.6970 - val_recall: 0.6970 - val_auc: 0.8624 - val_f1_score: 0.7187\n",
      "Epoch 21/30\n",
      "5/5 [==============================] - 107s 23s/step - loss: 0.0047 - accuracy: 1.0000 - precision: 1.0000 - recall: 1.0000 - auc: 1.0000 - f1_score: 1.5000 - val_loss: 0.9960 - val_accuracy: 0.7273 - val_precision: 0.7344 - val_recall: 0.7121 - val_auc: 0.8773 - val_f1_score: 0.7460\n",
      "\n",
      "Epoch 00021: ReduceLROnPlateau reducing learning rate to 0.00024009999469853935.\n",
      "Epoch 22/30\n",
      "5/5 [==============================] - 115s 25s/step - loss: 0.0043 - accuracy: 1.0000 - precision: 1.0000 - recall: 1.0000 - auc: 1.0000 - f1_score: 1.5000 - val_loss: 0.9926 - val_accuracy: 0.7273 - val_precision: 0.7344 - val_recall: 0.7121 - val_auc: 0.8789 - val_f1_score: 0.7460\n",
      "Epoch 23/30\n",
      "5/5 [==============================] - 126s 27s/step - loss: 0.0036 - accuracy: 1.0000 - precision: 1.0000 - recall: 1.0000 - auc: 1.0000 - f1_score: 1.5000 - val_loss: 1.0943 - val_accuracy: 0.7121 - val_precision: 0.7121 - val_recall: 0.7121 - val_auc: 0.8666 - val_f1_score: 0.7344\n",
      "Epoch 24/30\n",
      "5/5 [==============================] - 116s 24s/step - loss: 0.0030 - accuracy: 1.0000 - precision: 1.0000 - recall: 1.0000 - auc: 1.0000 - f1_score: 1.5000 - val_loss: 1.0440 - val_accuracy: 0.7121 - val_precision: 0.7121 - val_recall: 0.7121 - val_auc: 0.8722 - val_f1_score: 0.7344\n",
      "Epoch 25/30\n",
      "5/5 [==============================] - 123s 26s/step - loss: 0.0026 - accuracy: 1.0000 - precision: 1.0000 - recall: 1.0000 - auc: 1.0000 - f1_score: 1.5000 - val_loss: 1.0600 - val_accuracy: 0.7121 - val_precision: 0.7077 - val_recall: 0.6970 - val_auc: 0.8712 - val_f1_score: 0.7237\n",
      "Epoch 26/30\n",
      "5/5 [==============================] - 115s 24s/step - loss: 0.0021 - accuracy: 1.0000 - precision: 1.0000 - recall: 1.0000 - auc: 1.0000 - f1_score: 1.5000 - val_loss: 1.1046 - val_accuracy: 0.6970 - val_precision: 0.6923 - val_recall: 0.6818 - val_auc: 0.8620 - val_f1_score: 0.7081\n",
      "\n",
      "Epoch 00026: ReduceLROnPlateau reducing learning rate to 0.00016806999628897755.\n",
      "Epoch 27/30\n",
      "5/5 [==============================] - 117s 25s/step - loss: 0.0016 - accuracy: 1.0000 - precision: 1.0000 - recall: 1.0000 - auc: 1.0000 - f1_score: 1.5000 - val_loss: 1.0446 - val_accuracy: 0.7121 - val_precision: 0.7231 - val_recall: 0.7121 - val_auc: 0.8698 - val_f1_score: 0.7393\n",
      "Epoch 28/30\n",
      "5/5 [==============================] - 113s 24s/step - loss: 0.0012 - accuracy: 1.0000 - precision: 1.0000 - recall: 1.0000 - auc: 1.0000 - f1_score: 1.5000 - val_loss: 1.0938 - val_accuracy: 0.7121 - val_precision: 0.7344 - val_recall: 0.7121 - val_auc: 0.8675 - val_f1_score: 0.7460\n",
      "Epoch 29/30\n",
      "5/5 [==============================] - 122s 26s/step - loss: 0.0011 - accuracy: 1.0000 - precision: 1.0000 - recall: 1.0000 - auc: 1.0000 - f1_score: 1.5000 - val_loss: 1.0790 - val_accuracy: 0.7121 - val_precision: 0.7121 - val_recall: 0.7121 - val_auc: 0.8763 - val_f1_score: 0.7344\n",
      "Epoch 30/30\n",
      "5/5 [==============================] - 118s 25s/step - loss: 8.4834e-04 - accuracy: 1.0000 - precision: 1.0000 - recall: 1.0000 - auc: 1.0000 - f1_score: 1.5000 - val_loss: 1.0914 - val_accuracy: 0.6970 - val_precision: 0.6970 - val_recall: 0.6970 - val_auc: 0.8750 - val_f1_score: 0.7187\n"
     ]
    }
   ],
   "source": [
    "# this is where i fit and trained my model\n",
    "%time\n",
    "history=model_Inception.fit(x_train,y_train,validation_data=(x_val,y_val),epochs = 50,verbose = 1,callbacks=[lrd,mcp,es])"
   ]
  },
  {
   "cell_type": "code",
   "execution_count": 14,
   "id": "b0bc3568",
   "metadata": {},
   "outputs": [
    {
     "data": {
      "image/png": "[encoded data removed]",
      "text/plain": [
       "<Figure size 1080x720 with 2 Axes>"
      ]
     },
     "metadata": {
      "needs_background": "light"
     },
     "output_type": "display_data"
    }
   ],
   "source": [
    "acc = history.history['recall']\n",
    "val_acc = history.history['val_recall']\n",
    "loss = history.history['loss']\n",
    "val_loss = history.history['val_loss']\n",
    "epochs_range = range(len(history.history['val_loss']))\n",
    "plt.figure(figsize=(15, 10))\n",
    "plt.subplot(1, 2, 1)\n",
    "plt.scatter(epochs_range, acc, label='Training Recall')\n",
    "plt.scatter(epochs_range, val_acc, label='Validation Recall')\n",
    "plt.legend(loc='lower right')\n",
    "plt.title('Training and Validation Recall')\n",
    "plt.subplot(1, 2, 2)\n",
    "plt.scatter(epochs_range, loss, label='Training Loss')\n",
    "plt.scatter(epochs_range, val_loss, label='Validation Loss')\n",
    "plt.legend(loc='upper right')\n",
    "plt.title('Training and Validation Loss')\n",
    "plt.show()"
   ]
  },
  {
   "cell_type": "code",
   "execution_count": 15,
   "id": "5bb1e4b6",
   "metadata": {},
   "outputs": [
    {
     "name": "stdout",
     "output_type": "stream",
     "text": [
      "Confusion Matrix\n",
      "Classification Report\n",
      "                     precision    recall  f1-score   support\n",
      "\n",
      "       Good posture       0.50      0.28      0.36        18\n",
      "indifferent posture       0.57      0.68      0.62        38\n",
      "        Bad posture       0.76      0.76      0.76        38\n",
      "\n",
      "           accuracy                           0.64        94\n",
      "          macro avg       0.61      0.58      0.58        94\n",
      "       weighted avg       0.63      0.64      0.63        94\n",
      "\n"
     ]
    },
    {
     "data": {
      "image/png": "[encoded data removed]",
      "text/plain": [
       "<Figure size 720x720 with 2 Axes>"
      ]
     },
     "metadata": {
      "needs_background": "light"
     },
     "output_type": "display_data"
    }
   ],
   "source": [
    "# here i want to define and plot my confusion matrix\n",
    "# and also my classification report\n",
    "def plot_confusion_matrix(cm, classes, normalize=True, title='Confusion matrix', cmap=plt.cm.Blues):\n",
    "    \n",
    "    plt.figure(figsize=(10,10))\n",
    "    plt.imshow(cm, interpolation='nearest', cmap=cmap)\n",
    "    plt.title(title)\n",
    "    plt.colorbar()\n",
    "    tick_marks = np.arange(len(classes))\n",
    "    plt.xticks(tick_marks, classes, rotation=45)\n",
    "    plt.yticks(tick_marks, classes)\n",
    "    if normalize:\n",
    "        cm = cm.astype('float') / cm.sum(axis=1)[:, np.newaxis]\n",
    "        cm = np.around(cm, decimals=2)\n",
    "        cm[np.isnan(cm)] = 0.0\n",
    "    thresh = cm.max() / 2.\n",
    "    for i, j in itertools.product(range(cm.shape[0]), range(cm.shape[1])):\n",
    "        plt.text(j, i, cm[i, j],\n",
    "                 horizontalalignment=\"center\",\n",
    "                 color=\"white\" if cm[i, j] > thresh else \"black\")\n",
    "    plt.tight_layout()\n",
    "    plt.ylabel('True label')\n",
    "    plt.xlabel('Predicted label')\n",
    "    \n",
    "    \n",
    "y_pred = (model_Inception.predict(x_test) > 0.5).astype(\"int32\")\n",
    "\n",
    "y_test_c = np.argmax(y_test, axis=1)\n",
    "target_names = [\"Good posture\", \"indifferent posture\", \"Bad posture\"]\n",
    "\n",
    "Y_pred = np.argmax(model_Inception.predict(x_test),axis=1)\n",
    "print('Confusion Matrix')\n",
    "cm = confusion_matrix(y_test_c, Y_pred)\n",
    "plot_confusion_matrix(cm, target_names, normalize=False, title='Confusion Matrix')\n",
    "\n",
    "print('Classification Report')\n",
    "print(classification_report(y_test_c, Y_pred, target_names=target_names))\n"
   ]
  },
  {
   "cell_type": "code",
   "execution_count": 16,
   "id": "21909a0f",
   "metadata": {},
   "outputs": [],
   "source": [
    "TLA1 = tf.keras.applications.vgg16.VGG16(input_shape=(225,225,3),include_top=False,weights=\"imagenet\")"
   ]
  },
  {
   "cell_type": "code",
   "execution_count": 17,
   "id": "7bdfc28d",
   "metadata": {},
   "outputs": [],
   "source": [
    "for layer in TLA1.layers[:-10]:\n",
    "    layer.trainable=False"
   ]
  },
  {
   "cell_type": "code",
   "execution_count": 18,
   "id": "7ce6a432",
   "metadata": {},
   "outputs": [
    {
     "name": "stdout",
     "output_type": "stream",
     "text": [
      "Model: \"sequential_1\"\n",
      "_________________________________________________________________\n",
      "Layer (type)                 Output Shape              Param #   \n",
      "=================================================================\n",
      "vgg16 (Functional)           (None, 7, 7, 512)         14714688  \n",
      "_________________________________________________________________\n",
      "dropout_1 (Dropout)          (None, 7, 7, 512)         0         \n",
      "_________________________________________________________________\n",
      "flatten_1 (Flatten)          (None, 25088)             0         \n",
      "_________________________________________________________________\n",
      "dense_3 (Dense)              (None, 128)               3211392   \n",
      "_________________________________________________________________\n",
      "dense_4 (Dense)              (None, 128)               16512     \n",
      "_________________________________________________________________\n",
      "dense_5 (Dense)              (None, 3)                 387       \n",
      "=================================================================\n",
      "Total params: 17,942,979\n",
      "Trainable params: 16,797,571\n",
      "Non-trainable params: 1,145,408\n",
      "_________________________________________________________________\n"
     ]
    }
   ],
   "source": [
    "model_Vgg16=Sequential()\n",
    "model_Vgg16.add(TLA1)\n",
    "model_Vgg16.add(Dropout(0.2))\n",
    "model_Vgg16.add(Flatten())\n",
    "model_Vgg16.add(Dense(128, activation='relu'))\n",
    "model_Vgg16.add(Dense(128, activation='relu'))\n",
    "model_Vgg16.add(Dense(3, activation='softmax'))\n",
    "model_Vgg16.summary()"
   ]
  },
  {
   "cell_type": "code",
   "execution_count": 19,
   "id": "3bdaeafa",
   "metadata": {},
   "outputs": [],
   "source": [
    "model_Vgg16.compile(optimizer='rmsprop', loss = tf.keras.losses.CategoricalCrossentropy(),metrics=METRICS)"
   ]
  },
  {
   "cell_type": "code",
   "execution_count": null,
   "id": "12714ea8",
   "metadata": {},
   "outputs": [
    {
     "name": "stdout",
     "output_type": "stream",
     "text": [
      "Wall time: 1e+03 µs\n",
      "Epoch 1/30\n",
      "5/5 [==============================] - 913s 193s/step - loss: 5702.4814 - accuracy: 0.4475 - precision: 0.4619 - recall: 0.4155 - auc: 0.6406 - f1_score: 0.4761 - val_loss: 13.3476 - val_accuracy: 0.3030 - val_precision: 0.3030 - val_recall: 0.3030 - val_auc: 0.4773 - val_f1_score: 0.3125\n",
      "Epoch 2/30\n",
      "5/5 [==============================] - 940s 193s/step - loss: 2.9137 - accuracy: 0.3725 - precision: 0.4091 - recall: 0.1765 - auc: 0.5480 - f1_score: 0.2614 - val_loss: 1.8803 - val_accuracy: 0.3030 - val_precision: 0.3030 - val_recall: 0.3030 - val_auc: 0.5485 - val_f1_score: 0.3125\n",
      "Epoch 3/30\n",
      "4/5 [=======================>......] - ETA: 2:38 - loss: 1.2531 - accuracy: 0.4141 - precision: 0.3667 - recall: 0.1719 - auc: 0.5746 - f1_score: 0.2648"
     ]
    }
   ],
   "source": [
    "%time\n",
    "history=model_Vgg16.fit(x_train,y_train,validation_data=(x_val,y_val),epochs = 50,verbose = 1,callbacks=[lrd,mcp,es])"
   ]
  },
  {
   "cell_type": "code",
   "execution_count": null,
   "id": "51d54ba8",
   "metadata": {},
   "outputs": [],
   "source": [
    "acc = history.history['recall']\n",
    "val_acc = history.history['val_recall']\n",
    "loss = history.history['loss']\n",
    "val_loss = history.history['val_loss']\n",
    "epochs_range = range(len(history.history['val_loss']))\n",
    "plt.figure(figsize=(15, 10))\n",
    "plt.subplot(1, 2, 1)\n",
    "plt.scatter(epochs_range, acc, label='Training Recall')\n",
    "plt.scatter(epochs_range, val_acc, label='Validation Recall')\n",
    "plt.legend(loc='lower right')\n",
    "plt.title('Training and Validation Recall')\n",
    "plt.subplot(1, 2, 2)\n",
    "plt.scatter(epochs_range, loss, label='Training Loss')\n",
    "plt.scatter(epochs_range, val_loss, label='Validation Loss')\n",
    "plt.legend(loc='upper right')\n",
    "plt.title('Training and Validation Loss')\n",
    "plt.show()"
   ]
  },
  {
   "cell_type": "code",
   "execution_count": null,
   "id": "3823adbb",
   "metadata": {},
   "outputs": [],
   "source": [
    "def plot_confusion_matrix(cm, classes, normalize=True, title='Confusion matrix', cmap=plt.cm.Blues):\n",
    "    \n",
    "    plt.figure(figsize=(10,10))\n",
    "    plt.imshow(cm, interpolation='nearest', cmap=cmap)\n",
    "    plt.title(title)\n",
    "    plt.colorbar()\n",
    "    tick_marks = np.arange(len(classes))\n",
    "    plt.xticks(tick_marks, classes, rotation=45)\n",
    "    plt.yticks(tick_marks, classes)\n",
    "    if normalize:\n",
    "        cm = cm.astype('float') / cm.sum(axis=1)[:, np.newaxis]\n",
    "        cm = np.around(cm, decimals=2)\n",
    "        cm[np.isnan(cm)] = 0.0\n",
    "    thresh = cm.max() / 2.\n",
    "    for i, j in itertools.product(range(cm.shape[0]), range(cm.shape[1])):\n",
    "        plt.text(j, i, cm[i, j],\n",
    "                 horizontalalignment=\"center\",\n",
    "                 color=\"white\" if cm[i, j] > thresh else \"black\")\n",
    "    plt.tight_layout()\n",
    "    plt.ylabel('True label')\n",
    "    plt.xlabel('Predicted label')\n",
    "    \n",
    "    \n",
    "y_pred = (model_Vgg16.predict(x_test) > 0.5).astype(\"int32\")\n",
    "\n",
    "y_test_c = np.argmax(y_test, axis=1)\n",
    "target_names = [\"Good posture\", \"indifferent posture\", \"Bad posture\"]\n",
    "\n",
    "Y_pred = np.argmax(model_Inception.predict(x_test),axis=1)\n",
    "print('Confusion Matrix')\n",
    "cm = confusion_matrix(y_test_c, Y_pred)\n",
    "plot_confusion_matrix(cm, target_names, normalize=False, title='Confusion Matrix')\n",
    "\n",
    "print('Classification Report')\n",
    "print(classification_report(y_test_c, Y_pred, target_names=target_names))\n"
   ]
  },
  {
   "cell_type": "code",
   "execution_count": null,
   "id": "6573e985",
   "metadata": {},
   "outputs": [],
   "source": [
    "TLA2 = tf.keras.applications.resnet50.ResNet50(input_shape=(225,225,3),include_top=False,weights=\"imagenet\")"
   ]
  },
  {
   "cell_type": "code",
   "execution_count": null,
   "id": "acc9432c",
   "metadata": {},
   "outputs": [],
   "source": [
    "for layer in TLA2.layers[:-10]:\n",
    "    layer.trainable=False"
   ]
  },
  {
   "cell_type": "code",
   "execution_count": null,
   "id": "4796fb1d",
   "metadata": {},
   "outputs": [],
   "source": [
    "model_resnet=Sequential()\n",
    "model_resnet.add(TLA2)\n",
    "model_resnet.add(Dropout(0.2))\n",
    "model_resnet.add(Flatten())\n",
    "model_resnet.add(Dense(128, activation='relu'))\n",
    "model_resnet.add(Dense(128, activation='relu'))\n",
    "model_resnet.add(Dense(3, activation='softmax'))\n",
    "model_resnet.summary()"
   ]
  },
  {
   "cell_type": "code",
   "execution_count": null,
   "id": "cfb1ed36",
   "metadata": {},
   "outputs": [],
   "source": [
    "model_resnet.compile(optimizer='rmsprop', loss = tf.keras.losses.CategoricalCrossentropy(),metrics=METRICS)"
   ]
  },
  {
   "cell_type": "code",
   "execution_count": null,
   "id": "216974b6",
   "metadata": {},
   "outputs": [],
   "source": [
    "%time\n",
    "history=model_Vgg16.fit(x_train,y_train,validation_data=(x_val,y_val),epochs = 50,verbose = 1,callbacks=[lrd,mcp,es])"
   ]
  },
  {
   "cell_type": "code",
   "execution_count": null,
   "id": "0ba9f98c",
   "metadata": {},
   "outputs": [],
   "source": [
    "acc = history.history['recall']\n",
    "val_acc = history.history['val_recall']\n",
    "loss = history.history['loss']\n",
    "val_loss = history.history['val_loss']\n",
    "epochs_range = range(len(history.history['val_loss']))\n",
    "plt.figure(figsize=(15, 10))\n",
    "plt.subplot(1, 2, 1)\n",
    "plt.scatter(epochs_range, acc, label='Training Recall')\n",
    "plt.scatter(epochs_range, val_acc, label='Validation Recall')\n",
    "plt.legend(loc='lower right')\n",
    "plt.title('Training and Validation Recall')\n",
    "plt.subplot(1, 2, 2)\n",
    "plt.scatter(epochs_range, loss, label='Training Loss')\n",
    "plt.scatter(epochs_range, val_loss, label='Validation Loss')\n",
    "plt.legend(loc='upper right')\n",
    "plt.title('Training and Validation Loss')\n",
    "plt.show()"
   ]
  },
  {
   "cell_type": "code",
   "execution_count": null,
   "id": "eff0f161",
   "metadata": {},
   "outputs": [],
   "source": [
    "def plot_confusion_matrix(cm, classes, normalize=True, title='Confusion matrix', cmap=plt.cm.Blues):\n",
    "    \n",
    "    plt.figure(figsize=(10,10))\n",
    "    plt.imshow(cm, interpolation='nearest', cmap=cmap)\n",
    "    plt.title(title)\n",
    "    plt.colorbar()\n",
    "    tick_marks = np.arange(len(classes))\n",
    "    plt.xticks(tick_marks, classes, rotation=45)\n",
    "    plt.yticks(tick_marks, classes)\n",
    "    if normalize:\n",
    "        cm = cm.astype('float') / cm.sum(axis=1)[:, np.newaxis]\n",
    "        cm = np.around(cm, decimals=2)\n",
    "        cm[np.isnan(cm)] = 0.0\n",
    "    thresh = cm.max() / 2.\n",
    "    for i, j in itertools.product(range(cm.shape[0]), range(cm.shape[1])):\n",
    "        plt.text(j, i, cm[i, j],\n",
    "                 horizontalalignment=\"center\",\n",
    "                 color=\"white\" if cm[i, j] > thresh else \"black\")\n",
    "    plt.tight_layout()\n",
    "    plt.ylabel('True label')\n",
    "    plt.xlabel('Predicted label')\n",
    "    \n",
    "    \n",
    "y_pred = (model_Vgg16.predict(x_test) > 0.5).astype(\"int32\")\n",
    "\n",
    "y_test_c = np.argmax(y_test, axis=1)\n",
    "target_names = [\"Good posture\", \"indifferent posture\", \"Bad posture\"]\n",
    "\n",
    "Y_pred = np.argmax(model_resnet.predict(x_test),axis=1)\n",
    "print('Confusion Matrix')\n",
    "cm = confusion_matrix(y_test_c, Y_pred)\n",
    "plot_confusion_matrix(cm, target_names, normalize=False, title='Confusion Matrix')\n",
    "\n",
    "print('Classification Report')\n",
    "print(classification_report(y_test_c, Y_pred, target_names=target_names))\n"
   ]
  },
  {
   "cell_type": "code",
   "execution_count": null,
   "id": "f6529b9b",
   "metadata": {},
   "outputs": [],
   "source": []
  }
 ],
 "metadata": {
  "kernelspec": {
   "display_name": "Python 3",
   "language": "python",
   "name": "python3"
  },
  "language_info": {
   "codemirror_mode": {
    "name": "ipython",
    "version": 3
   },
   "file_extension": ".py",
   "mimetype": "text/x-python",
   "name": "python",
   "nbconvert_exporter": "python",
   "pygments_lexer": "ipython3",
   "version": "3.8.5"
  }
 },
 "nbformat": 4,
 "nbformat_minor": 5
}
