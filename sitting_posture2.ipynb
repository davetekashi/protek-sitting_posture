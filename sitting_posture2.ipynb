{
  "nbformat": 4,
  "nbformat_minor": 0,
  "metadata": {
    "colab": {
      "name": "Untitled8.ipynb",
      "provenance": [],
      "collapsed_sections": []
    },
    "kernelspec": {
      "name": "python3",
      "display_name": "Python 3"
    },
    "language_info": {
      "name": "python"
    }
  },
  "cells": [
    {
      "cell_type": "code",
      "execution_count": null,
      "metadata": {
        "id": "c5PRXYvsR1dL"
      },
      "outputs": [],
      "source": [
        ""
      ]
    },
    {
      "cell_type": "code",
      "source": [
        "from google.colab import drive\n",
        "drive.mount('/content/drive')"
      ],
      "metadata": {
        "colab": {
          "base_uri": "https://localhost:8080/"
        },
        "id": "m3pBd8PUlyhP",
        "outputId": "96102027-eff3-44d0-8eff-7247bd4890f2"
      },
      "execution_count": null,
      "outputs": [
        {
          "output_type": "stream",
          "name": "stdout",
          "text": [
            "Mounted at /content/drive\n"
          ]
        }
      ]
    },
    {
      "cell_type": "code",
      "source": [
        "import os\n",
        "import random\n",
        "import pandas as pd \n",
        "import numpy as np \n",
        "import matplotlib.pyplot as plt\n",
        "import cv2\n",
        "from tensorflow import keras\n",
        "import tensorflow as tf\n",
        "import keras.backend as K\n",
        "from tensorflow.keras.preprocessing.image import ImageDataGenerator\n",
        "from tensorflow.keras.models import Sequential\n",
        "from tensorflow.keras.layers import InputLayer, BatchNormalization, Dropout, Flatten, Dense, Activation, MaxPool2D, Conv2D\n",
        "from tensorflow.keras.layers import Conv2D, Dense, Flatten, Dropout, Activation, SimpleRNN\n",
        "from tensorflow.keras.layers import BatchNormalization, Reshape, MaxPooling2D, GlobalAveragePooling2D\n",
        "from tensorflow.keras.callbacks import EarlyStopping, ModelCheckpoint, ReduceLROnPlateau\n",
        "\n",
        "from PIL import Image\n",
        "from PIL import UnidentifiedImageError\n",
        "\n",
        "from sklearn.preprocessing import OneHotEncoder\n",
        "\n",
        "from sklearn.model_selection import train_test_split\n",
        "\n",
        "from sklearn.metrics import classification_report, confusion_matrix, roc_curve, auc\n",
        "import itertools\n",
        "from sklearn.preprocessing import StandardScaler\n",
        "\n",
        "import warnings\n",
        "warnings.filterwarnings('ignore')\n",
        "from sklearn import metrics\n",
        "from sklearn.preprocessing import label_binarize\n",
        "from sklearn.discriminant_analysis import LinearDiscriminantAnalysis\n",
        "from sklearn.preprocessing import StandardScaler\n",
        "from sklearn.neighbors import KNeighborsClassifier\n",
        "from sklearn.preprocessing import MinMaxScaler"
      ],
      "metadata": {
        "id": "vRwQHuMNl12S"
      },
      "execution_count": null,
      "outputs": []
    },
    {
      "cell_type": "code",
      "source": [
        "upright = os.listdir(r'/content/drive/MyDrive/posture/Upright Sitting')\n",
        "Crossed_legs = os.listdir(r'/content/drive/MyDrive/posture/Crossing legs')\n",
        "slant_bending = os.listdir(r'/content/drive/MyDrive/posture/Slant Bending')\n",
        "Lordosis = os.listdir(r'/content/drive/MyDrive/posture/Lordosis')\n",
        "slouching = os.listdir(r'/content/drive/MyDrive/posture/Slouching')"
      ],
      "metadata": {
        "id": "Lj3qiQnGmlD-"
      },
      "execution_count": null,
      "outputs": []
    },
    {
      "cell_type": "code",
      "source": [
        "img_w, img_h = 225, 225 #setting the image width and height for easy processing\n",
        "X = []\n",
        "y = []\n",
        "\n",
        "for i in upright:\n",
        "    try:\n",
        "        img = Image.open('/content/drive/MyDrive/posture/Upright Sitting/' + i).convert('RGB')\n",
        "        img = img.resize((img_w,img_h))\n",
        "        X.append(np.asarray(img))\n",
        "        y.append(0)\n",
        "    except UnidentifiedImageError: # it passes an image that wasn't correctly identified\n",
        "        pass\n",
        "    \n",
        "for i in Crossed_legs:\n",
        "    try:\n",
        "        img = Image.open(\"/content/drive/MyDrive/posture/Crossing legs/\" + i).convert('RGB')\n",
        "        img = img.resize((img_w,img_h))\n",
        "        X.append(np.asarray(img))\n",
        "        y.append(1)\n",
        "    except UnidentifiedImageError:\n",
        "        pass\n",
        "    \n",
        "for i in slant_bending:\n",
        "    try:\n",
        "        img = Image.open(\"/content/drive/MyDrive/posture/Slant Bending/\" + i).convert('RGB')\n",
        "        img = img.resize((img_w,img_h))\n",
        "        X.append(np.asarray(img))\n",
        "        y.append(1)\n",
        "    except UnidentifiedImageError:\n",
        "        pass\n",
        "    \n",
        "for i in Lordosis:\n",
        "    try:\n",
        "        img = Image.open(\"/content/drive/MyDrive/posture/Lordosis/\" + i).convert('RGB')\n",
        "        img = img.resize((img_w,img_h))\n",
        "        X.append(np.asarray(img))\n",
        "        y.append(2)\n",
        "    except UnidentifiedImageError:\n",
        "        pass\n",
        "    \n",
        "for i in slouching:\n",
        "    try:\n",
        "        img = Image.open(\"/content/drive/MyDrive/posture/Slouching/\" + i).convert('RGB')\n",
        "        img = img.resize((img_w,img_h))\n",
        "        X.append(np.asarray(img))\n",
        "        y.append(2)\n",
        "    except UnidentifiedImageError:\n",
        "        pass\n",
        "    \n",
        "X = np.asarray(X)\n",
        "y = np.asarray(y)\n",
        "print(X.shape, y.shape)\n",
        "\n",
        "# I resized each image to our manually defined width and height(img_w, img_h)\n",
        "# I also changed the images to an array\n",
        "\n"
      ],
      "metadata": {
        "colab": {
          "base_uri": "https://localhost:8080/"
        },
        "id": "rzp7oFb9nW4k",
        "outputId": "31e47d71-2b47-482d-eb94-94ec4736954e"
      },
      "execution_count": null,
      "outputs": [
        {
          "output_type": "stream",
          "name": "stdout",
          "text": [
            "(219, 225, 225, 3) (219,)\n"
          ]
        }
      ]
    },
    {
      "cell_type": "code",
      "source": [
        "x = X.astype('float32')\n",
        "x /= 255\n",
        "\n",
        "#scaler = MinMaxScaler()\n",
        "#x = scaler.fit_transform(x)\n",
        "\n",
        "num_classes = 3\n",
        "\n",
        "labels = keras.utils.to_categorical(y, num_classes)\n",
        "print(labels[0])"
      ],
      "metadata": {
        "colab": {
          "base_uri": "https://localhost:8080/"
        },
        "id": "0ZatGm4eouux",
        "outputId": "d79bb60f-2725-421e-a59f-22db651bdb4e"
      },
      "execution_count": null,
      "outputs": [
        {
          "output_type": "stream",
          "name": "stdout",
          "text": [
            "[1. 0. 0.]\n"
          ]
        }
      ]
    },
    {
      "cell_type": "code",
      "source": [
        "# splitting our dataset into train and test\n",
        "x_train1, x_test, y_train1, y_test = train_test_split(x, labels, test_size = 0.3, random_state=5)\n",
        "x_train,x_val,y_train,y_val=train_test_split(x_train1,y_train1,test_size=0.3,random_state=5)\n",
        "\n",
        "\n",
        "print('Number of train: {}'.format(len(x_train)))\n",
        "print('Number of validation: {}'.format(len(x_val)))\n",
        "print('Number of test: {}'.format(len(x_test)))"
      ],
      "metadata": {
        "colab": {
          "base_uri": "https://localhost:8080/"
        },
        "id": "FQaypYVStjKW",
        "outputId": "5d64194c-83be-49e4-9935-d11fd18e9082"
      },
      "execution_count": null,
      "outputs": [
        {
          "output_type": "stream",
          "name": "stdout",
          "text": [
            "Number of train: 107\n",
            "Number of validation: 46\n",
            "Number of test: 66\n"
          ]
        }
      ]
    },
    {
      "cell_type": "code",
      "source": [
        "datagen = ImageDataGenerator(\n",
        "    featurewise_center=False,\n",
        "    samplewise_center=False,\n",
        "    featurewise_std_normalization=False,\n",
        "    samplewise_std_normalization=False,\n",
        "    zca_whitening=False,\n",
        "    rotation_range=20.,\n",
        "    width_shift_range=0.5,\n",
        "    height_shift_range=0.5,\n",
        "    shear_range=30.,\n",
        "    zoom_range=0.,\n",
        "    channel_shift_range=0.,\n",
        "    fill_mode='nearest',\n",
        "    cval=0.,\n",
        "    horizontal_flip=0.2,\n",
        "    vertical_flip=0.2,\n",
        "    rescale=None)\n",
        "\n",
        "datagen.fit(x_train)"
      ],
      "metadata": {
        "id": "wvEStFjXtuQ-"
      },
      "execution_count": null,
      "outputs": []
    },
    {
      "cell_type": "code",
      "source": [
        "TLA = tf.keras.applications.InceptionV3(input_shape=(225,225,3),include_top=False,weights=\"imagenet\")"
      ],
      "metadata": {
        "colab": {
          "base_uri": "https://localhost:8080/"
        },
        "id": "sS62KFkAtzuT",
        "outputId": "69a61d8c-063c-44bb-9d0d-f47d107f3198"
      },
      "execution_count": null,
      "outputs": [
        {
          "output_type": "stream",
          "name": "stdout",
          "text": [
            "Downloading data from https://storage.googleapis.com/tensorflow/keras-applications/inception_v3/inception_v3_weights_tf_dim_ordering_tf_kernels_notop.h5\n",
            "87916544/87910968 [==============================] - 2s 0us/step\n",
            "87924736/87910968 [==============================] - 2s 0us/step\n"
          ]
        }
      ]
    },
    {
      "cell_type": "code",
      "source": [
        "for layer in TLA.layers[:-10]:\n",
        "    layer.trainable=False"
      ],
      "metadata": {
        "id": "1gxvTGIMt46j"
      },
      "execution_count": null,
      "outputs": []
    },
    {
      "cell_type": "code",
      "source": [
        "# My neural network consists of 3 layers densely connected\n",
        "# dropout helps prevent over fitting of the model when testing it\n",
        "model_Inception=Sequential()\n",
        "model_Inception.add(TLA)\n",
        "model_Inception.add(Dropout(0.2))\n",
        "model_Inception.add(Flatten())\n",
        "model_Inception.add(Dense(128, activation='relu'))\n",
        "model_Inception.add(Dense(128, activation='relu'))\n",
        "model_Inception.add(Dense(3, activation='softmax'))\n",
        "model_Inception.summary()"
      ],
      "metadata": {
        "colab": {
          "base_uri": "https://localhost:8080/"
        },
        "id": "WOAhyUNet9mv",
        "outputId": "75986a9a-f7be-40eb-edea-f60e4a22b1c7"
      },
      "execution_count": null,
      "outputs": [
        {
          "output_type": "stream",
          "name": "stdout",
          "text": [
            "Model: \"sequential\"\n",
            "_________________________________________________________________\n",
            " Layer (type)                Output Shape              Param #   \n",
            "=================================================================\n",
            " inception_v3 (Functional)   (None, 5, 5, 2048)        21802784  \n",
            "                                                                 \n",
            " dropout (Dropout)           (None, 5, 5, 2048)        0         \n",
            "                                                                 \n",
            " flatten (Flatten)           (None, 51200)             0         \n",
            "                                                                 \n",
            " dense (Dense)               (None, 128)               6553728   \n",
            "                                                                 \n",
            " dense_1 (Dense)             (None, 128)               16512     \n",
            "                                                                 \n",
            " dense_2 (Dense)             (None, 3)                 387       \n",
            "                                                                 \n",
            "=================================================================\n",
            "Total params: 28,373,411\n",
            "Trainable params: 6,570,819\n",
            "Non-trainable params: 21,802,592\n",
            "_________________________________________________________________\n"
          ]
        }
      ]
    },
    {
      "cell_type": "code",
      "source": [
        "# here i am defining my performance metrics to check the performance of the model\n",
        "def f1_score(y_true, y_pred):\n",
        "    true_positives = K.sum(K.round(K.clip(y_true * y_pred, 0, 1)))\n",
        "    possible_positives = K.sum(K.round(K.clip(y_true, 0, 1)))\n",
        "    predicted_positives = K.sum(K.round(K.clip(y_pred, 0, 1)))\n",
        "    precision = true_positives / (predicted_positives + K.epsilon())\n",
        "    recall = true_positives / (possible_positives + K.epsilon())\n",
        "    f1_val = 3*(precision*recall)/(precision+recall+K.epsilon())\n",
        "    return f1_val\n",
        "\n",
        "METRICS = [\n",
        "      tf.keras.metrics.CategoricalAccuracy(name='accuracy'),\n",
        "      tf.keras.metrics.Precision(name='precision'),\n",
        "      tf.keras.metrics.Recall(name='recall'),  \n",
        "      tf.keras.metrics.AUC(name='auc'),\n",
        "        f1_score,\n",
        "]"
      ],
      "metadata": {
        "id": "aDyFx5DUuAZV"
      },
      "execution_count": null,
      "outputs": []
    },
    {
      "cell_type": "code",
      "source": [
        "lrd = ReduceLROnPlateau(monitor = 'recall',patience = 10,verbose = 1,factor = 0.70, min_lr = 1e-5)\n",
        "# the above line of code reduces the learning rate when there is no improvement to the metric\n",
        "# i added this line of code because i trained the model without it and the performance was stagnant\n",
        "# the performance was stuck on 0.96nnn as the accuracy so i added the line of code to reduce\n",
        "# the learing rate after two epochs\n",
        "mcp = ModelCheckpoint('model.h5')\n",
        "es = EarlyStopping(verbose=1, patience=50)\n",
        "\n",
        "model_Inception.compile(optimizer='rmsprop', loss = tf.keras.losses.CategoricalCrossentropy(),metrics=METRICS)"
      ],
      "metadata": {
        "id": "7crjPKtguEXT"
      },
      "execution_count": null,
      "outputs": []
    },
    {
      "cell_type": "code",
      "source": [
        "# this is where i fit and trained my model\n",
        "%time\n",
        "history=model_Inception.fit(x_train,y_train,validation_data=(x_val,y_val),epochs = 50,verbose = 1,callbacks=[lrd,mcp,es])"
      ],
      "metadata": {
        "colab": {
          "base_uri": "https://localhost:8080/"
        },
        "id": "2F9hWQIMuJvW",
        "outputId": "75958aef-0220-4c68-b56c-26994d019d3e"
      },
      "execution_count": null,
      "outputs": [
        {
          "output_type": "stream",
          "name": "stdout",
          "text": [
            "CPU times: user 5 µs, sys: 0 ns, total: 5 µs\n",
            "Wall time: 10 µs\n",
            "Epoch 1/50\n",
            "4/4 [==============================] - 27s 5s/step - loss: 24.0720 - accuracy: 0.6405 - precision: 0.6405 - recall: 0.6405 - auc: 0.7648 - f1_score: 0.9652 - val_loss: 18.4753 - val_accuracy: 0.3696 - val_precision: 0.3696 - val_recall: 0.3696 - val_auc: 0.5274 - val_f1_score: 0.5190 - lr: 0.0010\n",
            "Epoch 2/50\n",
            "4/4 [==============================] - 18s 5s/step - loss: 4.7577 - accuracy: 0.7103 - precision: 0.7103 - recall: 0.7103 - auc: 0.8102 - f1_score: 1.0472 - val_loss: 8.0367 - val_accuracy: 0.5652 - val_precision: 0.5652 - val_recall: 0.5652 - val_auc: 0.6782 - val_f1_score: 0.8504 - lr: 0.0010\n",
            "Epoch 3/50\n",
            "4/4 [==============================] - 17s 5s/step - loss: 1.2516 - accuracy: 0.8785 - precision: 0.8868 - recall: 0.8785 - auc: 0.9388 - f1_score: 1.3514 - val_loss: 2.1204 - val_accuracy: 0.6739 - val_precision: 0.6739 - val_recall: 0.6739 - val_auc: 0.8092 - val_f1_score: 0.9375 - lr: 0.0010\n",
            "Epoch 4/50\n",
            "4/4 [==============================] - 17s 5s/step - loss: 0.0038 - accuracy: 1.0000 - precision: 1.0000 - recall: 1.0000 - auc: 1.0000 - f1_score: 1.5000 - val_loss: 1.9111 - val_accuracy: 0.6739 - val_precision: 0.6889 - val_recall: 0.6739 - val_auc: 0.8357 - val_f1_score: 0.9835 - lr: 0.0010\n",
            "Epoch 5/50\n",
            "4/4 [==============================] - 18s 5s/step - loss: 7.4076e-04 - accuracy: 1.0000 - precision: 1.0000 - recall: 1.0000 - auc: 1.0000 - f1_score: 1.5000 - val_loss: 1.9632 - val_accuracy: 0.6739 - val_precision: 0.6889 - val_recall: 0.6739 - val_auc: 0.8237 - val_f1_score: 0.9835 - lr: 0.0010\n",
            "Epoch 6/50\n",
            "4/4 [==============================] - 17s 5s/step - loss: 1.7387e-04 - accuracy: 1.0000 - precision: 1.0000 - recall: 1.0000 - auc: 1.0000 - f1_score: 1.5000 - val_loss: 1.9694 - val_accuracy: 0.6739 - val_precision: 0.6889 - val_recall: 0.6739 - val_auc: 0.8234 - val_f1_score: 0.9835 - lr: 0.0010\n",
            "Epoch 7/50\n",
            "4/4 [==============================] - 17s 5s/step - loss: 2.0037e-04 - accuracy: 1.0000 - precision: 1.0000 - recall: 1.0000 - auc: 1.0000 - f1_score: 1.5000 - val_loss: 1.9801 - val_accuracy: 0.6739 - val_precision: 0.6889 - val_recall: 0.6739 - val_auc: 0.8257 - val_f1_score: 0.9835 - lr: 0.0010\n",
            "Epoch 8/50\n",
            "4/4 [==============================] - 18s 5s/step - loss: 1.4702e-04 - accuracy: 1.0000 - precision: 1.0000 - recall: 1.0000 - auc: 1.0000 - f1_score: 1.5000 - val_loss: 2.0093 - val_accuracy: 0.6739 - val_precision: 0.6739 - val_recall: 0.6739 - val_auc: 0.8262 - val_f1_score: 0.9676 - lr: 0.0010\n",
            "Epoch 9/50\n",
            "4/4 [==============================] - 17s 5s/step - loss: 1.0908e-04 - accuracy: 1.0000 - precision: 1.0000 - recall: 1.0000 - auc: 1.0000 - f1_score: 1.5000 - val_loss: 2.0010 - val_accuracy: 0.6739 - val_precision: 0.6889 - val_recall: 0.6739 - val_auc: 0.8296 - val_f1_score: 0.9835 - lr: 0.0010\n",
            "Epoch 10/50\n",
            "4/4 [==============================] - 17s 5s/step - loss: 5.9802e-05 - accuracy: 1.0000 - precision: 1.0000 - recall: 1.0000 - auc: 1.0000 - f1_score: 1.5000 - val_loss: 2.0229 - val_accuracy: 0.6739 - val_precision: 0.6739 - val_recall: 0.6739 - val_auc: 0.8198 - val_f1_score: 0.9676 - lr: 0.0010\n",
            "Epoch 11/50\n",
            "4/4 [==============================] - ETA: 0s - loss: 5.8742e-05 - accuracy: 1.0000 - precision: 1.0000 - recall: 1.0000 - auc: 1.0000 - f1_score: 1.5000\n",
            "Epoch 11: ReduceLROnPlateau reducing learning rate to 0.0007000000332482159.\n",
            "4/4 [==============================] - 20s 5s/step - loss: 5.8742e-05 - accuracy: 1.0000 - precision: 1.0000 - recall: 1.0000 - auc: 1.0000 - f1_score: 1.5000 - val_loss: 2.0526 - val_accuracy: 0.6739 - val_precision: 0.6739 - val_recall: 0.6739 - val_auc: 0.8194 - val_f1_score: 0.9676 - lr: 0.0010\n",
            "Epoch 12/50\n",
            "4/4 [==============================] - 20s 6s/step - loss: 7.6366e-05 - accuracy: 1.0000 - precision: 1.0000 - recall: 1.0000 - auc: 1.0000 - f1_score: 1.5000 - val_loss: 2.0721 - val_accuracy: 0.6522 - val_precision: 0.6522 - val_recall: 0.6522 - val_auc: 0.8191 - val_f1_score: 0.9442 - lr: 7.0000e-04\n",
            "Epoch 13/50\n",
            "4/4 [==============================] - 18s 5s/step - loss: 2.9002e-05 - accuracy: 1.0000 - precision: 1.0000 - recall: 1.0000 - auc: 1.0000 - f1_score: 1.5000 - val_loss: 2.0684 - val_accuracy: 0.6739 - val_precision: 0.6739 - val_recall: 0.6739 - val_auc: 0.8195 - val_f1_score: 0.9676 - lr: 7.0000e-04\n",
            "Epoch 14/50\n",
            "4/4 [==============================] - 17s 5s/step - loss: 2.2843e-05 - accuracy: 1.0000 - precision: 1.0000 - recall: 1.0000 - auc: 1.0000 - f1_score: 1.5000 - val_loss: 2.0638 - val_accuracy: 0.6739 - val_precision: 0.6739 - val_recall: 0.6739 - val_auc: 0.8196 - val_f1_score: 0.9676 - lr: 7.0000e-04\n",
            "Epoch 15/50\n",
            "4/4 [==============================] - 18s 5s/step - loss: 5.9698e-05 - accuracy: 1.0000 - precision: 1.0000 - recall: 1.0000 - auc: 1.0000 - f1_score: 1.5000 - val_loss: 2.0351 - val_accuracy: 0.6739 - val_precision: 0.6739 - val_recall: 0.6739 - val_auc: 0.8207 - val_f1_score: 0.9676 - lr: 7.0000e-04\n",
            "Epoch 16/50\n",
            "4/4 [==============================] - 17s 5s/step - loss: 1.9419e-05 - accuracy: 1.0000 - precision: 1.0000 - recall: 1.0000 - auc: 1.0000 - f1_score: 1.5000 - val_loss: 2.0247 - val_accuracy: 0.6739 - val_precision: 0.6739 - val_recall: 0.6739 - val_auc: 0.8207 - val_f1_score: 0.9676 - lr: 7.0000e-04\n",
            "Epoch 17/50\n",
            "4/4 [==============================] - 17s 5s/step - loss: 1.9234e-05 - accuracy: 1.0000 - precision: 1.0000 - recall: 1.0000 - auc: 1.0000 - f1_score: 1.5000 - val_loss: 2.0301 - val_accuracy: 0.6739 - val_precision: 0.6739 - val_recall: 0.6739 - val_auc: 0.8204 - val_f1_score: 0.9676 - lr: 7.0000e-04\n",
            "Epoch 18/50\n",
            "4/4 [==============================] - 17s 5s/step - loss: 1.6033e-05 - accuracy: 1.0000 - precision: 1.0000 - recall: 1.0000 - auc: 1.0000 - f1_score: 1.5000 - val_loss: 2.0329 - val_accuracy: 0.6739 - val_precision: 0.6739 - val_recall: 0.6739 - val_auc: 0.8208 - val_f1_score: 0.9676 - lr: 7.0000e-04\n",
            "Epoch 19/50\n",
            "4/4 [==============================] - 17s 5s/step - loss: 2.6523e-05 - accuracy: 1.0000 - precision: 1.0000 - recall: 1.0000 - auc: 1.0000 - f1_score: 1.5000 - val_loss: 2.0207 - val_accuracy: 0.6739 - val_precision: 0.6739 - val_recall: 0.6739 - val_auc: 0.8214 - val_f1_score: 0.9676 - lr: 7.0000e-04\n",
            "Epoch 20/50\n",
            "4/4 [==============================] - 17s 5s/step - loss: 2.4378e-05 - accuracy: 1.0000 - precision: 1.0000 - recall: 1.0000 - auc: 1.0000 - f1_score: 1.5000 - val_loss: 1.9807 - val_accuracy: 0.6739 - val_precision: 0.6889 - val_recall: 0.6739 - val_auc: 0.8326 - val_f1_score: 0.9835 - lr: 7.0000e-04\n",
            "Epoch 21/50\n",
            "4/4 [==============================] - ETA: 0s - loss: 2.0288e-05 - accuracy: 1.0000 - precision: 1.0000 - recall: 1.0000 - auc: 1.0000 - f1_score: 1.5000\n",
            "Epoch 21: ReduceLROnPlateau reducing learning rate to 0.0004900000232737511.\n",
            "4/4 [==============================] - 17s 5s/step - loss: 2.0288e-05 - accuracy: 1.0000 - precision: 1.0000 - recall: 1.0000 - auc: 1.0000 - f1_score: 1.5000 - val_loss: 1.9730 - val_accuracy: 0.6739 - val_precision: 0.6889 - val_recall: 0.6739 - val_auc: 0.8326 - val_f1_score: 0.9835 - lr: 7.0000e-04\n",
            "Epoch 22/50\n",
            "4/4 [==============================] - 17s 5s/step - loss: 1.1307e-05 - accuracy: 1.0000 - precision: 1.0000 - recall: 1.0000 - auc: 1.0000 - f1_score: 1.5000 - val_loss: 1.9780 - val_accuracy: 0.6739 - val_precision: 0.6889 - val_recall: 0.6739 - val_auc: 0.8327 - val_f1_score: 0.9835 - lr: 4.9000e-04\n",
            "Epoch 23/50\n",
            "4/4 [==============================] - 18s 5s/step - loss: 1.0086e-05 - accuracy: 1.0000 - precision: 1.0000 - recall: 1.0000 - auc: 1.0000 - f1_score: 1.5000 - val_loss: 2.0026 - val_accuracy: 0.6739 - val_precision: 0.6739 - val_recall: 0.6739 - val_auc: 0.8314 - val_f1_score: 0.9676 - lr: 4.9000e-04\n",
            "Epoch 24/50\n",
            "4/4 [==============================] - 18s 5s/step - loss: 9.3275e-06 - accuracy: 1.0000 - precision: 1.0000 - recall: 1.0000 - auc: 1.0000 - f1_score: 1.5000 - val_loss: 2.0101 - val_accuracy: 0.6739 - val_precision: 0.6739 - val_recall: 0.6739 - val_auc: 0.8210 - val_f1_score: 0.9676 - lr: 4.9000e-04\n",
            "Epoch 25/50\n",
            "4/4 [==============================] - 18s 5s/step - loss: 9.7010e-06 - accuracy: 1.0000 - precision: 1.0000 - recall: 1.0000 - auc: 1.0000 - f1_score: 1.5000 - val_loss: 2.0310 - val_accuracy: 0.6739 - val_precision: 0.6667 - val_recall: 0.6522 - val_auc: 0.8208 - val_f1_score: 0.9280 - lr: 4.9000e-04\n",
            "Epoch 26/50\n",
            "4/4 [==============================] - 23s 6s/step - loss: 7.3182e-06 - accuracy: 1.0000 - precision: 1.0000 - recall: 1.0000 - auc: 1.0000 - f1_score: 1.5000 - val_loss: 2.0571 - val_accuracy: 0.6522 - val_precision: 0.6444 - val_recall: 0.6304 - val_auc: 0.8309 - val_f1_score: 0.9045 - lr: 4.9000e-04\n",
            "Epoch 27/50\n",
            "4/4 [==============================] - 17s 5s/step - loss: 1.0119e-05 - accuracy: 1.0000 - precision: 1.0000 - recall: 1.0000 - auc: 1.0000 - f1_score: 1.5000 - val_loss: 1.9535 - val_accuracy: 0.6739 - val_precision: 0.6889 - val_recall: 0.6739 - val_auc: 0.8328 - val_f1_score: 0.9835 - lr: 4.9000e-04\n",
            "Epoch 28/50\n",
            "4/4 [==============================] - 17s 5s/step - loss: 6.2432e-06 - accuracy: 1.0000 - precision: 1.0000 - recall: 1.0000 - auc: 1.0000 - f1_score: 1.5000 - val_loss: 2.0044 - val_accuracy: 0.6522 - val_precision: 0.6522 - val_recall: 0.6522 - val_auc: 0.8312 - val_f1_score: 0.9442 - lr: 4.9000e-04\n",
            "Epoch 29/50\n",
            "4/4 [==============================] - 17s 5s/step - loss: 6.4559e-06 - accuracy: 1.0000 - precision: 1.0000 - recall: 1.0000 - auc: 1.0000 - f1_score: 1.5000 - val_loss: 1.9864 - val_accuracy: 0.6739 - val_precision: 0.6818 - val_recall: 0.6522 - val_auc: 0.8313 - val_f1_score: 0.9429 - lr: 4.9000e-04\n",
            "Epoch 30/50\n",
            "4/4 [==============================] - 17s 5s/step - loss: 6.3055e-06 - accuracy: 1.0000 - precision: 1.0000 - recall: 1.0000 - auc: 1.0000 - f1_score: 1.5000 - val_loss: 1.9939 - val_accuracy: 0.6739 - val_precision: 0.6818 - val_recall: 0.6522 - val_auc: 0.8322 - val_f1_score: 0.9429 - lr: 4.9000e-04\n",
            "Epoch 31/50\n",
            "4/4 [==============================] - ETA: 0s - loss: 4.6200e-06 - accuracy: 1.0000 - precision: 1.0000 - recall: 1.0000 - auc: 1.0000 - f1_score: 1.5000\n",
            "Epoch 31: ReduceLROnPlateau reducing learning rate to 0.00034300000406801696.\n",
            "4/4 [==============================] - 17s 5s/step - loss: 4.6200e-06 - accuracy: 1.0000 - precision: 1.0000 - recall: 1.0000 - auc: 1.0000 - f1_score: 1.5000 - val_loss: 2.0504 - val_accuracy: 0.6522 - val_precision: 0.6444 - val_recall: 0.6304 - val_auc: 0.8299 - val_f1_score: 0.9045 - lr: 4.9000e-04\n",
            "Epoch 32/50\n",
            "4/4 [==============================] - 17s 5s/step - loss: 3.8291e-06 - accuracy: 1.0000 - precision: 1.0000 - recall: 1.0000 - auc: 1.0000 - f1_score: 1.5000 - val_loss: 2.0563 - val_accuracy: 0.6522 - val_precision: 0.6444 - val_recall: 0.6304 - val_auc: 0.8299 - val_f1_score: 0.9045 - lr: 3.4300e-04\n",
            "Epoch 33/50\n",
            "4/4 [==============================] - 18s 5s/step - loss: 2.1402e-06 - accuracy: 1.0000 - precision: 1.0000 - recall: 1.0000 - auc: 1.0000 - f1_score: 1.5000 - val_loss: 2.0451 - val_accuracy: 0.6522 - val_precision: 0.6444 - val_recall: 0.6304 - val_auc: 0.8422 - val_f1_score: 0.9045 - lr: 3.4300e-04\n",
            "Epoch 34/50\n",
            "4/4 [==============================] - 17s 5s/step - loss: 3.9148e-06 - accuracy: 1.0000 - precision: 1.0000 - recall: 1.0000 - auc: 1.0000 - f1_score: 1.5000 - val_loss: 2.0848 - val_accuracy: 0.6304 - val_precision: 0.6444 - val_recall: 0.6304 - val_auc: 0.8301 - val_f1_score: 0.9045 - lr: 3.4300e-04\n",
            "Epoch 35/50\n",
            "4/4 [==============================] - 18s 5s/step - loss: 3.1283e-06 - accuracy: 1.0000 - precision: 1.0000 - recall: 1.0000 - auc: 1.0000 - f1_score: 1.5000 - val_loss: 2.0068 - val_accuracy: 0.6739 - val_precision: 0.6818 - val_recall: 0.6522 - val_auc: 0.8424 - val_f1_score: 0.9429 - lr: 3.4300e-04\n",
            "Epoch 36/50\n",
            "4/4 [==============================] - 18s 5s/step - loss: 2.6549e-06 - accuracy: 1.0000 - precision: 1.0000 - recall: 1.0000 - auc: 1.0000 - f1_score: 1.5000 - val_loss: 2.0114 - val_accuracy: 0.6739 - val_precision: 0.6818 - val_recall: 0.6522 - val_auc: 0.8430 - val_f1_score: 0.9429 - lr: 3.4300e-04\n",
            "Epoch 37/50\n",
            "4/4 [==============================] - 17s 5s/step - loss: 1.9608e-06 - accuracy: 1.0000 - precision: 1.0000 - recall: 1.0000 - auc: 1.0000 - f1_score: 1.5000 - val_loss: 2.0600 - val_accuracy: 0.6304 - val_precision: 0.6444 - val_recall: 0.6304 - val_auc: 0.8435 - val_f1_score: 0.9045 - lr: 3.4300e-04\n",
            "Epoch 38/50\n",
            "4/4 [==============================] - 17s 5s/step - loss: 1.7748e-06 - accuracy: 1.0000 - precision: 1.0000 - recall: 1.0000 - auc: 1.0000 - f1_score: 1.5000 - val_loss: 2.0604 - val_accuracy: 0.6304 - val_precision: 0.6444 - val_recall: 0.6304 - val_auc: 0.8438 - val_f1_score: 0.9045 - lr: 3.4300e-04\n",
            "Epoch 39/50\n",
            "4/4 [==============================] - 17s 5s/step - loss: 1.6299e-06 - accuracy: 1.0000 - precision: 1.0000 - recall: 1.0000 - auc: 1.0000 - f1_score: 1.5000 - val_loss: 2.0178 - val_accuracy: 0.6522 - val_precision: 0.6591 - val_recall: 0.6304 - val_auc: 0.8453 - val_f1_score: 0.9195 - lr: 3.4300e-04\n",
            "Epoch 40/50\n",
            "4/4 [==============================] - 17s 5s/step - loss: 1.6578e-06 - accuracy: 1.0000 - precision: 1.0000 - recall: 1.0000 - auc: 1.0000 - f1_score: 1.5000 - val_loss: 2.1014 - val_accuracy: 0.6304 - val_precision: 0.6591 - val_recall: 0.6304 - val_auc: 0.8431 - val_f1_score: 0.9195 - lr: 3.4300e-04\n",
            "Epoch 41/50\n",
            "4/4 [==============================] - ETA: 0s - loss: 1.0762e-06 - accuracy: 1.0000 - precision: 1.0000 - recall: 1.0000 - auc: 1.0000 - f1_score: 1.5000\n",
            "Epoch 41: ReduceLROnPlateau reducing learning rate to 0.00024009999469853935.\n",
            "4/4 [==============================] - 19s 5s/step - loss: 1.0762e-06 - accuracy: 1.0000 - precision: 1.0000 - recall: 1.0000 - auc: 1.0000 - f1_score: 1.5000 - val_loss: 2.0876 - val_accuracy: 0.6304 - val_precision: 0.6444 - val_recall: 0.6304 - val_auc: 0.8449 - val_f1_score: 0.9045 - lr: 3.4300e-04\n",
            "Epoch 42/50\n",
            "4/4 [==============================] - 17s 5s/step - loss: 8.6788e-07 - accuracy: 1.0000 - precision: 1.0000 - recall: 1.0000 - auc: 1.0000 - f1_score: 1.5000 - val_loss: 2.0408 - val_accuracy: 0.6739 - val_precision: 0.6667 - val_recall: 0.6522 - val_auc: 0.8476 - val_f1_score: 0.9280 - lr: 2.4010e-04\n",
            "Epoch 43/50\n",
            "4/4 [==============================] - 17s 5s/step - loss: 6.6178e-07 - accuracy: 1.0000 - precision: 1.0000 - recall: 1.0000 - auc: 1.0000 - f1_score: 1.5000 - val_loss: 2.0904 - val_accuracy: 0.6304 - val_precision: 0.6444 - val_recall: 0.6304 - val_auc: 0.8469 - val_f1_score: 0.9045 - lr: 2.4010e-04\n",
            "Epoch 44/50\n",
            "4/4 [==============================] - 17s 5s/step - loss: 1.0517e-06 - accuracy: 1.0000 - precision: 1.0000 - recall: 1.0000 - auc: 1.0000 - f1_score: 1.5000 - val_loss: 2.1091 - val_accuracy: 0.6522 - val_precision: 0.6522 - val_recall: 0.6522 - val_auc: 0.8346 - val_f1_score: 0.9141 - lr: 2.4010e-04\n",
            "Epoch 45/50\n",
            "4/4 [==============================] - 17s 5s/step - loss: 8.6788e-07 - accuracy: 1.0000 - precision: 1.0000 - recall: 1.0000 - auc: 1.0000 - f1_score: 1.5000 - val_loss: 2.0836 - val_accuracy: 0.6304 - val_precision: 0.6444 - val_recall: 0.6304 - val_auc: 0.8465 - val_f1_score: 0.9045 - lr: 2.4010e-04\n",
            "Epoch 46/50\n",
            "4/4 [==============================] - 18s 5s/step - loss: 6.5398e-07 - accuracy: 1.0000 - precision: 1.0000 - recall: 1.0000 - auc: 1.0000 - f1_score: 1.5000 - val_loss: 2.0744 - val_accuracy: 0.6522 - val_precision: 0.6667 - val_recall: 0.6522 - val_auc: 0.8477 - val_f1_score: 0.9280 - lr: 2.4010e-04\n",
            "Epoch 47/50\n",
            "4/4 [==============================] - 19s 5s/step - loss: 3.6097e-07 - accuracy: 1.0000 - precision: 1.0000 - recall: 1.0000 - auc: 1.0000 - f1_score: 1.5000 - val_loss: 2.1134 - val_accuracy: 0.6739 - val_precision: 0.6739 - val_recall: 0.6739 - val_auc: 0.8487 - val_f1_score: 0.9676 - lr: 2.4010e-04\n",
            "Epoch 48/50\n",
            "4/4 [==============================] - 17s 5s/step - loss: 5.3365e-07 - accuracy: 1.0000 - precision: 1.0000 - recall: 1.0000 - auc: 1.0000 - f1_score: 1.5000 - val_loss: 2.0942 - val_accuracy: 0.6522 - val_precision: 0.6522 - val_recall: 0.6522 - val_auc: 0.8479 - val_f1_score: 0.9141 - lr: 2.4010e-04\n",
            "Epoch 49/50\n",
            "4/4 [==============================] - 17s 5s/step - loss: 3.8771e-07 - accuracy: 1.0000 - precision: 1.0000 - recall: 1.0000 - auc: 1.0000 - f1_score: 1.5000 - val_loss: 2.1560 - val_accuracy: 0.6522 - val_precision: 0.6522 - val_recall: 0.6522 - val_auc: 0.8483 - val_f1_score: 0.9442 - lr: 2.4010e-04\n",
            "Epoch 50/50\n",
            "4/4 [==============================] - 17s 5s/step - loss: 3.3535e-07 - accuracy: 1.0000 - precision: 1.0000 - recall: 1.0000 - auc: 1.0000 - f1_score: 1.5000 - val_loss: 2.1569 - val_accuracy: 0.6739 - val_precision: 0.6739 - val_recall: 0.6739 - val_auc: 0.8360 - val_f1_score: 0.9676 - lr: 2.4010e-04\n"
          ]
        }
      ]
    },
    {
      "cell_type": "code",
      "source": [
        "acc = history.history['recall']\n",
        "val_acc = history.history['val_recall']\n",
        "loss = history.history['loss']\n",
        "val_loss = history.history['val_loss']\n",
        "epochs_range = range(len(history.history['val_loss']))\n",
        "plt.figure(figsize=(15, 10))\n",
        "plt.subplot(1, 2, 1)\n",
        "plt.scatter(epochs_range, acc, label='Training Recall')\n",
        "plt.scatter(epochs_range, val_acc, label='Validation Recall')\n",
        "plt.legend(loc='lower right')\n",
        "plt.title('Training and Validation Recall')\n",
        "plt.subplot(1, 2, 2)\n",
        "plt.scatter(epochs_range, loss, label='Training Loss')\n",
        "plt.scatter(epochs_range, val_loss, label='Validation Loss')\n",
        "plt.legend(loc='upper right')\n",
        "plt.title('Training and Validation Loss')\n",
        "plt.show()"
      ],
      "metadata": {
        "colab": {
          "base_uri": "https://localhost:8080/",
          "height": 607
        },
        "id": "CkoBjCG7uVT0",
        "outputId": "04e81925-fd90-4f03-b06f-1a69cc0cecc9"
      },
      "execution_count": null,
      "outputs": [
        {
          "output_type": "display_data",
          "data": {
            "text/plain": [
              "<Figure size 1080x720 with 2 Axes>"
            ],
            "image/png": "[encoded data removed]"
          },
          "metadata": {
            "needs_background": "light"
          }
        }
      ]
    },
    {
      "cell_type": "code",
      "source": [
        "# here i want to define and plot my confusion matrix\n",
        "# and also my classification report\n",
        "def plot_confusion_matrix(cm, classes, normalize=True, title='Confusion matrix', cmap=plt.cm.Blues):\n",
        "    \n",
        "    plt.figure(figsize=(10,10))\n",
        "    plt.imshow(cm, interpolation='nearest', cmap=cmap)\n",
        "    plt.title(title)\n",
        "    plt.colorbar()\n",
        "    tick_marks = np.arange(len(classes))\n",
        "    plt.xticks(tick_marks, classes, rotation=45)\n",
        "    plt.yticks(tick_marks, classes)\n",
        "    if normalize:\n",
        "        cm = cm.astype('float') / cm.sum(axis=1)[:, np.newaxis]\n",
        "        cm = np.around(cm, decimals=2)\n",
        "        cm[np.isnan(cm)] = 0.0\n",
        "    thresh = cm.max() / 2.\n",
        "    for i, j in itertools.product(range(cm.shape[0]), range(cm.shape[1])):\n",
        "        plt.text(j, i, cm[i, j],\n",
        "                 horizontalalignment=\"center\",\n",
        "                 color=\"white\" if cm[i, j] > thresh else \"black\")\n",
        "    plt.tight_layout()\n",
        "    plt.ylabel('True label')\n",
        "    plt.xlabel('Predicted label')\n",
        "    \n",
        "    \n",
        "y_pred = (model_Inception.predict(x_test) > 0.5).astype(\"int32\")\n",
        "\n",
        "y_test_c = np.argmax(y_test, axis=1)\n",
        "target_names = [\"Good posture\", \"indifferent posture\", \"Bad posture\"]\n",
        "\n",
        "Y_pred = np.argmax(model_Inception.predict(x_test),axis=1)\n",
        "print('Confusion Matrix')\n",
        "cm = confusion_matrix(y_test_c, Y_pred)\n",
        "plot_confusion_matrix(cm, target_names, normalize=False, title='Confusion Matrix')\n",
        "\n",
        "print('Classification Report')\n",
        "print(classification_report(y_test_c, Y_pred, target_names=target_names))\n"
      ],
      "metadata": {
        "colab": {
          "base_uri": "https://localhost:8080/",
          "height": 906
        },
        "id": "ADqP_uLXyGNJ",
        "outputId": "c920727f-63b5-485c-efc1-a50bc5c47414"
      },
      "execution_count": null,
      "outputs": [
        {
          "output_type": "stream",
          "name": "stdout",
          "text": [
            "Confusion Matrix\n",
            "Classification Report\n",
            "                     precision    recall  f1-score   support\n",
            "\n",
            "       Good posture       0.87      0.54      0.67        24\n",
            "indifferent posture       0.65      0.73      0.69        15\n",
            "        Bad posture       0.71      0.89      0.79        27\n",
            "\n",
            "           accuracy                           0.73        66\n",
            "          macro avg       0.74      0.72      0.71        66\n",
            "       weighted avg       0.75      0.73      0.72        66\n",
            "\n"
          ]
        },
        {
          "output_type": "display_data",
          "data": {
            "text/plain": [
              "<Figure size 720x720 with 2 Axes>"
            ],
            "image/png": "[encoded data removed]"
          },
          "metadata": {
            "needs_background": "light"
          }
        }
      ]
    },
    {
      "cell_type": "code",
      "source": [
        "TLA1 = tf.keras.applications.vgg16.VGG16(input_shape=(225,225,3),include_top=False,weights=\"imagenet\")"
      ],
      "metadata": {
        "colab": {
          "base_uri": "https://localhost:8080/"
        },
        "id": "PGCM-JWQyNe_",
        "outputId": "c82c877b-36f9-4a96-b310-d8d34f24275e"
      },
      "execution_count": null,
      "outputs": [
        {
          "output_type": "stream",
          "name": "stdout",
          "text": [
            "Downloading data from https://storage.googleapis.com/tensorflow/keras-applications/vgg16/vgg16_weights_tf_dim_ordering_tf_kernels_notop.h5\n",
            "58892288/58889256 [==============================] - 1s 0us/step\n",
            "58900480/58889256 [==============================] - 1s 0us/step\n"
          ]
        }
      ]
    },
    {
      "cell_type": "code",
      "source": [
        "for layer in TLA1.layers[:-10]:\n",
        "    layer.trainable=False"
      ],
      "metadata": {
        "id": "c9pFppBZ3H1P"
      },
      "execution_count": null,
      "outputs": []
    },
    {
      "cell_type": "code",
      "source": [
        "model_Vgg16=Sequential()\n",
        "model_Vgg16.add(TLA1)\n",
        "model_Vgg16.add(Dropout(0.2))\n",
        "model_Vgg16.add(Flatten())\n",
        "model_Vgg16.add(Dense(128, activation='relu'))\n",
        "model_Vgg16.add(Dense(128, activation='relu'))\n",
        "model_Vgg16.add(Dense(3, activation='softmax'))\n",
        "model_Vgg16.summary()"
      ],
      "metadata": {
        "colab": {
          "base_uri": "https://localhost:8080/"
        },
        "id": "TH8mEyn-3Os5",
        "outputId": "9b891387-a7c7-4c56-a3e0-afe713bc66c1"
      },
      "execution_count": null,
      "outputs": [
        {
          "output_type": "stream",
          "name": "stdout",
          "text": [
            "Model: \"sequential_1\"\n",
            "_________________________________________________________________\n",
            " Layer (type)                Output Shape              Param #   \n",
            "=================================================================\n",
            " vgg16 (Functional)          (None, 7, 7, 512)         14714688  \n",
            "                                                                 \n",
            " dropout_1 (Dropout)         (None, 7, 7, 512)         0         \n",
            "                                                                 \n",
            " flatten_1 (Flatten)         (None, 25088)             0         \n",
            "                                                                 \n",
            " dense_3 (Dense)             (None, 128)               3211392   \n",
            "                                                                 \n",
            " dense_4 (Dense)             (None, 128)               16512     \n",
            "                                                                 \n",
            " dense_5 (Dense)             (None, 3)                 387       \n",
            "                                                                 \n",
            "=================================================================\n",
            "Total params: 17,942,979\n",
            "Trainable params: 16,797,571\n",
            "Non-trainable params: 1,145,408\n",
            "_________________________________________________________________\n"
          ]
        }
      ]
    },
    {
      "cell_type": "code",
      "source": [
        "model_Vgg16.compile(optimizer='rmsprop', loss = tf.keras.losses.CategoricalCrossentropy(),metrics=METRICS)"
      ],
      "metadata": {
        "id": "HWLV-I4R3RyS"
      },
      "execution_count": null,
      "outputs": []
    },
    {
      "cell_type": "code",
      "source": [
        "%time\n",
        "history=model_Vgg16.fit(x_train,y_train,validation_data=(x_val,y_val),epochs = 50,verbose = 1,callbacks=[lrd,mcp,es])"
      ],
      "metadata": {
        "colab": {
          "base_uri": "https://localhost:8080/"
        },
        "id": "mjlYMM8R3XP4",
        "outputId": "1f741318-705b-4e13-f59f-352104c8c90f"
      },
      "execution_count": 35,
      "outputs": [
        {
          "output_type": "stream",
          "name": "stdout",
          "text": [
            "CPU times: user 4 µs, sys: 0 ns, total: 4 µs\n",
            "Wall time: 21.7 µs\n",
            "Epoch 1/50\n",
            "4/4 [==============================] - 153s 38s/step - loss: 714.4534 - accuracy: 0.4248 - precision: 0.4453 - recall: 0.3725 - auc: 0.6019 - f1_score: 0.4092 - val_loss: 1.9279 - val_accuracy: 0.2609 - val_precision: 0.2609 - val_recall: 0.2609 - val_auc: 0.4445 - val_f1_score: 0.4018 - lr: 0.0010\n",
            "Epoch 2/50\n",
            "4/4 [==============================] - 144s 36s/step - loss: 1.3374 - accuracy: 0.3551 - precision: 0.2188 - recall: 0.0654 - auc: 0.4972 - f1_score: 0.0820 - val_loss: 1.1056 - val_accuracy: 0.3913 - val_precision: 0.5000 - val_recall: 0.0217 - val_auc: 0.5637 - val_f1_score: 0.1000 - lr: 0.0010\n",
            "Epoch 3/50\n",
            "4/4 [==============================] - 142s 35s/step - loss: 1.0821 - accuracy: 0.4673 - precision: 0.4359 - recall: 0.1589 - auc: 0.6019 - f1_score: 0.2385 - val_loss: 1.0926 - val_accuracy: 0.3913 - val_precision: 0.0000e+00 - val_recall: 0.0000e+00 - val_auc: 0.5724 - val_f1_score: 0.0000e+00 - lr: 0.0010\n",
            "Epoch 4/50\n",
            "4/4 [==============================] - 143s 36s/step - loss: 1.0840 - accuracy: 0.4206 - precision: 0.0000e+00 - recall: 0.0000e+00 - auc: 0.6090 - f1_score: 0.0000e+00 - val_loss: 1.0835 - val_accuracy: 0.3913 - val_precision: 0.0000e+00 - val_recall: 0.0000e+00 - val_auc: 0.5924 - val_f1_score: 0.0000e+00 - lr: 0.0010\n",
            "Epoch 5/50\n",
            "4/4 [==============================] - 141s 35s/step - loss: 1.0782 - accuracy: 0.4299 - precision: 0.5000 - recall: 0.1589 - auc: 0.6138 - f1_score: 0.3955 - val_loss: 1.6359 - val_accuracy: 0.3913 - val_precision: 0.3913 - val_recall: 0.3913 - val_auc: 0.5396 - val_f1_score: 0.6027 - lr: 0.0010\n",
            "Epoch 6/50\n",
            "4/4 [==============================] - 146s 36s/step - loss: 1.3081 - accuracy: 0.4486 - precision: 0.4048 - recall: 0.1589 - auc: 0.5831 - f1_score: 0.3133 - val_loss: 1.0974 - val_accuracy: 0.3696 - val_precision: 0.0000e+00 - val_recall: 0.0000e+00 - val_auc: 0.5312 - val_f1_score: 0.0000e+00 - lr: 0.0010\n",
            "Epoch 7/50\n",
            "4/4 [==============================] - 142s 35s/step - loss: 1.6376 - accuracy: 0.4673 - precision: 0.4828 - recall: 0.1308 - auc: 0.6216 - f1_score: 0.3055 - val_loss: 1.8341 - val_accuracy: 0.3913 - val_precision: 0.3913 - val_recall: 0.3913 - val_auc: 0.5417 - val_f1_score: 0.6027 - lr: 0.0010\n",
            "Epoch 8/50\n",
            "4/4 [==============================] - 142s 36s/step - loss: 1.2268 - accuracy: 0.4486 - precision: 0.5000 - recall: 0.1495 - auc: 0.5873 - f1_score: 0.1875 - val_loss: 14.8062 - val_accuracy: 0.3913 - val_precision: 0.3913 - val_recall: 0.3913 - val_auc: 0.5435 - val_f1_score: 0.6027 - lr: 0.0010\n",
            "Epoch 9/50\n",
            "4/4 [==============================] - 140s 35s/step - loss: 5.3200 - accuracy: 0.3084 - precision: 0.3281 - recall: 0.1963 - auc: 0.5035 - f1_score: 0.2461 - val_loss: 1.0958 - val_accuracy: 0.3913 - val_precision: 0.0000e+00 - val_recall: 0.0000e+00 - val_auc: 0.5402 - val_f1_score: 0.0000e+00 - lr: 0.0010\n",
            "Epoch 10/50\n",
            "4/4 [==============================] - 147s 37s/step - loss: 1.2046 - accuracy: 0.3551 - precision: 0.5455 - recall: 0.0561 - auc: 0.5730 - f1_score: 0.2045 - val_loss: 1.0906 - val_accuracy: 0.3478 - val_precision: 0.0000e+00 - val_recall: 0.0000e+00 - val_auc: 0.5773 - val_f1_score: 0.0000e+00 - lr: 0.0010\n",
            "Epoch 11/50\n",
            "4/4 [==============================] - 141s 35s/step - loss: 1.0873 - accuracy: 0.2991 - precision: 0.3810 - recall: 0.0748 - auc: 0.5708 - f1_score: 0.1132 - val_loss: 1.0914 - val_accuracy: 0.3913 - val_precision: 0.0000e+00 - val_recall: 0.0000e+00 - val_auc: 0.5611 - val_f1_score: 0.0000e+00 - lr: 0.0010\n",
            "Epoch 12/50\n",
            "4/4 [==============================] - 142s 36s/step - loss: 1.0855 - accuracy: 0.4393 - precision: 0.0000e+00 - recall: 0.0000e+00 - auc: 0.5814 - f1_score: 0.0000e+00 - val_loss: 1.0856 - val_accuracy: 0.3913 - val_precision: 0.0000e+00 - val_recall: 0.0000e+00 - val_auc: 0.5795 - val_f1_score: 0.0000e+00 - lr: 0.0010\n",
            "Epoch 13/50\n",
            "4/4 [==============================] - 141s 35s/step - loss: 1.0731 - accuracy: 0.4579 - precision: 0.0000e+00 - recall: 0.0000e+00 - auc: 0.6026 - f1_score: 0.0000e+00 - val_loss: 1.0896 - val_accuracy: 0.3913 - val_precision: 0.0000e+00 - val_recall: 0.0000e+00 - val_auc: 0.5581 - val_f1_score: 0.0000e+00 - lr: 0.0010\n",
            "Epoch 14/50\n",
            "4/4 [==============================] - ETA: 0s - loss: 1.0784 - accuracy: 0.4486 - precision: 0.0000e+00 - recall: 0.0000e+00 - auc: 0.5907 - f1_score: 0.0000e+00 \n",
            "Epoch 14: ReduceLROnPlateau reducing learning rate to 0.0007000000332482159.\n",
            "4/4 [==============================] - 147s 37s/step - loss: 1.0784 - accuracy: 0.4486 - precision: 0.0000e+00 - recall: 0.0000e+00 - auc: 0.5907 - f1_score: 0.0000e+00 - val_loss: 1.0969 - val_accuracy: 0.3261 - val_precision: 0.0000e+00 - val_recall: 0.0000e+00 - val_auc: 0.5180 - val_f1_score: 0.0000e+00 - lr: 0.0010\n",
            "Epoch 15/50\n",
            "4/4 [==============================] - 141s 35s/step - loss: 1.0668 - accuracy: 0.4393 - precision: 0.0000e+00 - recall: 0.0000e+00 - auc: 0.6235 - f1_score: 0.0000e+00 - val_loss: 1.0836 - val_accuracy: 0.3913 - val_precision: 0.0000e+00 - val_recall: 0.0000e+00 - val_auc: 0.5875 - val_f1_score: 0.0000e+00 - lr: 7.0000e-04\n",
            "Epoch 16/50\n",
            "4/4 [==============================] - 143s 36s/step - loss: 1.0550 - accuracy: 0.4579 - precision: 0.0000e+00 - recall: 0.0000e+00 - auc: 0.6289 - f1_score: 0.0000e+00 - val_loss: 1.0837 - val_accuracy: 0.3913 - val_precision: 0.0000e+00 - val_recall: 0.0000e+00 - val_auc: 0.5772 - val_f1_score: 0.0000e+00 - lr: 7.0000e-04\n",
            "Epoch 17/50\n",
            "4/4 [==============================] - 141s 35s/step - loss: 1.0466 - accuracy: 0.4579 - precision: 0.5758 - recall: 0.1776 - auc: 0.6293 - f1_score: 0.2963 - val_loss: 1.0620 - val_accuracy: 0.4565 - val_precision: 0.0000e+00 - val_recall: 0.0000e+00 - val_auc: 0.6387 - val_f1_score: 0.0000e+00 - lr: 7.0000e-04\n",
            "Epoch 18/50\n",
            "4/4 [==============================] - 147s 37s/step - loss: 1.0301 - accuracy: 0.4953 - precision: 0.4545 - recall: 0.0467 - auc: 0.6849 - f1_score: 0.1632 - val_loss: 1.0855 - val_accuracy: 0.3913 - val_precision: 0.0000e+00 - val_recall: 0.0000e+00 - val_auc: 0.6001 - val_f1_score: 0.0000e+00 - lr: 7.0000e-04\n",
            "Epoch 19/50\n",
            "4/4 [==============================] - 141s 35s/step - loss: 1.0728 - accuracy: 0.4579 - precision: 0.0000e+00 - recall: 0.0000e+00 - auc: 0.6027 - f1_score: 0.0000e+00 - val_loss: 2.2222 - val_accuracy: 0.3913 - val_precision: 0.3913 - val_recall: 0.3913 - val_auc: 0.5592 - val_f1_score: 0.6027 - lr: 7.0000e-04\n",
            "Epoch 20/50\n",
            "4/4 [==============================] - 143s 36s/step - loss: 1.5305 - accuracy: 0.3551 - precision: 0.3407 - recall: 0.2897 - auc: 0.5562 - f1_score: 0.3692 - val_loss: 1.0760 - val_accuracy: 0.3913 - val_precision: 0.6667 - val_recall: 0.2174 - val_auc: 0.6181 - val_f1_score: 0.5301 - lr: 7.0000e-04\n",
            "Epoch 21/50\n",
            "4/4 [==============================] - 141s 35s/step - loss: 1.0221 - accuracy: 0.4860 - precision: 0.4643 - recall: 0.1215 - auc: 0.6592 - f1_score: 0.2417 - val_loss: 1.0609 - val_accuracy: 0.3478 - val_precision: 0.0000e+00 - val_recall: 0.0000e+00 - val_auc: 0.5942 - val_f1_score: 0.0000e+00 - lr: 7.0000e-04\n",
            "Epoch 22/50\n",
            "4/4 [==============================] - 142s 35s/step - loss: 1.0037 - accuracy: 0.4766 - precision: 0.6957 - recall: 0.1495 - auc: 0.6870 - f1_score: 0.3621 - val_loss: 1.1249 - val_accuracy: 0.3913 - val_precision: 0.4324 - val_recall: 0.3478 - val_auc: 0.5990 - val_f1_score: 0.5551 - lr: 7.0000e-04\n",
            "Epoch 23/50\n",
            "4/4 [==============================] - 144s 36s/step - loss: 0.9916 - accuracy: 0.4486 - precision: 0.5926 - recall: 0.2991 - auc: 0.6786 - f1_score: 0.4730 - val_loss: 1.1238 - val_accuracy: 0.3696 - val_precision: 0.4412 - val_recall: 0.3261 - val_auc: 0.6222 - val_f1_score: 0.5503 - lr: 7.0000e-04\n",
            "Epoch 24/50\n",
            "4/4 [==============================] - ETA: 0s - loss: 0.9304 - accuracy: 0.5421 - precision: 0.6190 - recall: 0.2430 - auc: 0.7394 - f1_score: 0.4829 \n",
            "Epoch 24: ReduceLROnPlateau reducing learning rate to 0.0004900000232737511.\n",
            "4/4 [==============================] - 141s 35s/step - loss: 0.9304 - accuracy: 0.5421 - precision: 0.6190 - recall: 0.2430 - auc: 0.7394 - f1_score: 0.4829 - val_loss: 1.2997 - val_accuracy: 0.3913 - val_precision: 0.3913 - val_recall: 0.3913 - val_auc: 0.6346 - val_f1_score: 0.6027 - lr: 7.0000e-04\n",
            "Epoch 25/50\n",
            "4/4 [==============================] - 143s 35s/step - loss: 1.1647 - accuracy: 0.4299 - precision: 0.4211 - recall: 0.2991 - auc: 0.6234 - f1_score: 0.5719 - val_loss: 1.1814 - val_accuracy: 0.3913 - val_precision: 0.3913 - val_recall: 0.3913 - val_auc: 0.6306 - val_f1_score: 0.6027 - lr: 4.9000e-04\n",
            "Epoch 26/50\n",
            "4/4 [==============================] - 145s 36s/step - loss: 0.9486 - accuracy: 0.5327 - precision: 0.6250 - recall: 0.3271 - auc: 0.7231 - f1_score: 0.6469 - val_loss: 1.0492 - val_accuracy: 0.3913 - val_precision: 0.5714 - val_recall: 0.1739 - val_auc: 0.6140 - val_f1_score: 0.2609 - lr: 4.9000e-04\n",
            "Epoch 27/50\n",
            "4/4 [==============================] - 144s 36s/step - loss: 0.8740 - accuracy: 0.5794 - precision: 0.6500 - recall: 0.3645 - auc: 0.7825 - f1_score: 0.7483 - val_loss: 1.5504 - val_accuracy: 0.2826 - val_precision: 0.2857 - val_recall: 0.2609 - val_auc: 0.5399 - val_f1_score: 0.4143 - lr: 4.9000e-04\n",
            "Epoch 28/50\n",
            "4/4 [==============================] - 141s 35s/step - loss: 1.1213 - accuracy: 0.4206 - precision: 0.4500 - recall: 0.2523 - auc: 0.6136 - f1_score: 0.5469 - val_loss: 0.8412 - val_accuracy: 0.5652 - val_precision: 0.7037 - val_recall: 0.4130 - val_auc: 0.7995 - val_f1_score: 0.6813 - lr: 4.9000e-04\n",
            "Epoch 29/50\n",
            "4/4 [==============================] - 142s 36s/step - loss: 0.9972 - accuracy: 0.5047 - precision: 0.5875 - recall: 0.4393 - auc: 0.7033 - f1_score: 0.7132 - val_loss: 0.8956 - val_accuracy: 0.5652 - val_precision: 0.6667 - val_recall: 0.2174 - val_auc: 0.7888 - val_f1_score: 0.4542 - lr: 4.9000e-04\n",
            "Epoch 30/50\n",
            "4/4 [==============================] - 144s 36s/step - loss: 0.9855 - accuracy: 0.4766 - precision: 0.5577 - recall: 0.2710 - auc: 0.6934 - f1_score: 0.5625 - val_loss: 0.9150 - val_accuracy: 0.6087 - val_precision: 0.6667 - val_recall: 0.2609 - val_auc: 0.7739 - val_f1_score: 0.5000 - lr: 4.9000e-04\n",
            "Epoch 31/50\n",
            "4/4 [==============================] - 143s 36s/step - loss: 0.7873 - accuracy: 0.6729 - precision: 0.6769 - recall: 0.4112 - auc: 0.8367 - f1_score: 0.7915 - val_loss: 0.7943 - val_accuracy: 0.6304 - val_precision: 0.7353 - val_recall: 0.5435 - val_auc: 0.8204 - val_f1_score: 0.9428 - lr: 4.9000e-04\n",
            "Epoch 32/50\n",
            "4/4 [==============================] - 142s 35s/step - loss: 0.8923 - accuracy: 0.6355 - precision: 0.6706 - recall: 0.5327 - auc: 0.7819 - f1_score: 0.8928 - val_loss: 0.8531 - val_accuracy: 0.6957 - val_precision: 0.7917 - val_recall: 0.4130 - val_auc: 0.8056 - val_f1_score: 0.8400 - lr: 4.9000e-04\n",
            "Epoch 33/50\n",
            "4/4 [==============================] - 141s 36s/step - loss: 0.7029 - accuracy: 0.6729 - precision: 0.8108 - recall: 0.5607 - auc: 0.8824 - f1_score: 0.9962 - val_loss: 0.9849 - val_accuracy: 0.5217 - val_precision: 0.5581 - val_recall: 0.5217 - val_auc: 0.7281 - val_f1_score: 0.8629 - lr: 4.9000e-04\n",
            "Epoch 34/50\n",
            "4/4 [==============================] - ETA: 0s - loss: 0.5983 - accuracy: 0.7850 - precision: 0.7900 - recall: 0.7383 - auc: 0.9036 - f1_score: 1.1287 \n",
            "Epoch 34: ReduceLROnPlateau reducing learning rate to 0.00034300000406801696.\n",
            "4/4 [==============================] - 140s 35s/step - loss: 0.5983 - accuracy: 0.7850 - precision: 0.7900 - recall: 0.7383 - auc: 0.9036 - f1_score: 1.1287 - val_loss: 0.9024 - val_accuracy: 0.5652 - val_precision: 0.6000 - val_recall: 0.5217 - val_auc: 0.7865 - val_f1_score: 0.8288 - lr: 4.9000e-04\n",
            "Epoch 35/50\n",
            "4/4 [==============================] - 142s 36s/step - loss: 0.4464 - accuracy: 0.8037 - precision: 0.8400 - recall: 0.7850 - auc: 0.9462 - f1_score: 1.2405 - val_loss: 0.8749 - val_accuracy: 0.5870 - val_precision: 0.5778 - val_recall: 0.5652 - val_auc: 0.8260 - val_f1_score: 0.8984 - lr: 3.4300e-04\n",
            "Epoch 36/50\n",
            "4/4 [==============================] - 140s 35s/step - loss: 0.4037 - accuracy: 0.8037 - precision: 0.8333 - recall: 0.7944 - auc: 0.9557 - f1_score: 1.2652 - val_loss: 0.6801 - val_accuracy: 0.7609 - val_precision: 0.7727 - val_recall: 0.7391 - val_auc: 0.8892 - val_f1_score: 1.1587 - lr: 3.4300e-04\n",
            "Epoch 37/50\n",
            "4/4 [==============================] - 139s 35s/step - loss: 0.2712 - accuracy: 0.9346 - precision: 0.9515 - recall: 0.9159 - auc: 0.9829 - f1_score: 1.3809 - val_loss: 1.3746 - val_accuracy: 0.7174 - val_precision: 0.7045 - val_recall: 0.6739 - val_auc: 0.8241 - val_f1_score: 1.0238 - lr: 3.4300e-04\n",
            "Epoch 38/50\n",
            "4/4 [==============================] - 146s 35s/step - loss: 0.5175 - accuracy: 0.7570 - precision: 0.7843 - recall: 0.7477 - auc: 0.9293 - f1_score: 1.2055 - val_loss: 0.6315 - val_accuracy: 0.7391 - val_precision: 0.7556 - val_recall: 0.7391 - val_auc: 0.9064 - val_f1_score: 1.1369 - lr: 3.4300e-04\n",
            "Epoch 39/50\n",
            "4/4 [==============================] - 142s 36s/step - loss: 0.1491 - accuracy: 0.9439 - precision: 0.9434 - recall: 0.9346 - auc: 0.9960 - f1_score: 1.4235 - val_loss: 0.9082 - val_accuracy: 0.6957 - val_precision: 0.6957 - val_recall: 0.6957 - val_auc: 0.8855 - val_f1_score: 1.0513 - lr: 3.4300e-04\n",
            "Epoch 40/50\n",
            "4/4 [==============================] - 144s 36s/step - loss: 0.0665 - accuracy: 0.9813 - precision: 0.9813 - recall: 0.9813 - auc: 0.9995 - f1_score: 1.4766 - val_loss: 0.7575 - val_accuracy: 0.6957 - val_precision: 0.7111 - val_recall: 0.6957 - val_auc: 0.8867 - val_f1_score: 1.0893 - lr: 3.4300e-04\n",
            "Epoch 41/50\n",
            "4/4 [==============================] - 140s 35s/step - loss: 0.2348 - accuracy: 0.8972 - precision: 0.8972 - recall: 0.8972 - auc: 0.9846 - f1_score: 1.3487 - val_loss: 0.6905 - val_accuracy: 0.7391 - val_precision: 0.7333 - val_recall: 0.7174 - val_auc: 0.8977 - val_f1_score: 1.1131 - lr: 3.4300e-04\n",
            "Epoch 42/50\n",
            "4/4 [==============================] - 141s 36s/step - loss: 0.0889 - accuracy: 0.9720 - precision: 0.9720 - recall: 0.9720 - auc: 0.9991 - f1_score: 1.4648 - val_loss: 1.0379 - val_accuracy: 0.6957 - val_precision: 0.6889 - val_recall: 0.6739 - val_auc: 0.8894 - val_f1_score: 1.0156 - lr: 3.4300e-04\n",
            "Epoch 43/50\n",
            "4/4 [==============================] - 140s 35s/step - loss: 0.0429 - accuracy: 0.9813 - precision: 0.9813 - recall: 0.9813 - auc: 0.9996 - f1_score: 1.4766 - val_loss: 0.8811 - val_accuracy: 0.7174 - val_precision: 0.7333 - val_recall: 0.7174 - val_auc: 0.9145 - val_f1_score: 1.1131 - lr: 3.4300e-04\n",
            "Epoch 44/50\n",
            "4/4 [==============================] - ETA: 0s - loss: 0.0041 - accuracy: 1.0000 - precision: 1.0000 - recall: 1.0000 - auc: 1.0000 - f1_score: 1.5000 \n",
            "Epoch 44: ReduceLROnPlateau reducing learning rate to 0.00024009999469853935.\n",
            "4/4 [==============================] - 142s 36s/step - loss: 0.0041 - accuracy: 1.0000 - precision: 1.0000 - recall: 1.0000 - auc: 1.0000 - f1_score: 1.5000 - val_loss: 1.0047 - val_accuracy: 0.7174 - val_precision: 0.7333 - val_recall: 0.7174 - val_auc: 0.9061 - val_f1_score: 1.1131 - lr: 3.4300e-04\n",
            "Epoch 45/50\n",
            "4/4 [==============================] - 141s 35s/step - loss: 0.0194 - accuracy: 0.9907 - precision: 0.9907 - recall: 0.9907 - auc: 1.0000 - f1_score: 1.4883 - val_loss: 1.2359 - val_accuracy: 0.7391 - val_precision: 0.7556 - val_recall: 0.7391 - val_auc: 0.8666 - val_f1_score: 1.1369 - lr: 2.4010e-04\n",
            "Epoch 46/50\n",
            "4/4 [==============================] - 145s 36s/step - loss: 0.0030 - accuracy: 1.0000 - precision: 1.0000 - recall: 1.0000 - auc: 1.0000 - f1_score: 1.5000 - val_loss: 1.1615 - val_accuracy: 0.7391 - val_precision: 0.7391 - val_recall: 0.7391 - val_auc: 0.8726 - val_f1_score: 1.1283 - lr: 2.4010e-04\n",
            "Epoch 47/50\n",
            "4/4 [==============================] - 140s 35s/step - loss: 0.0015 - accuracy: 1.0000 - precision: 1.0000 - recall: 1.0000 - auc: 1.0000 - f1_score: 1.5000 - val_loss: 1.2092 - val_accuracy: 0.7609 - val_precision: 0.7609 - val_recall: 0.7609 - val_auc: 0.8882 - val_f1_score: 1.1518 - lr: 2.4010e-04\n",
            "Epoch 48/50\n",
            "4/4 [==============================] - 140s 35s/step - loss: 0.0029 - accuracy: 1.0000 - precision: 1.0000 - recall: 1.0000 - auc: 1.0000 - f1_score: 1.5000 - val_loss: 1.4070 - val_accuracy: 0.7174 - val_precision: 0.7111 - val_recall: 0.6957 - val_auc: 0.9005 - val_f1_score: 1.0893 - lr: 2.4010e-04\n",
            "Epoch 49/50\n",
            "4/4 [==============================] - 140s 35s/step - loss: 0.0052 - accuracy: 1.0000 - precision: 1.0000 - recall: 1.0000 - auc: 1.0000 - f1_score: 1.5000 - val_loss: 1.4681 - val_accuracy: 0.7391 - val_precision: 0.7391 - val_recall: 0.7391 - val_auc: 0.8725 - val_f1_score: 1.0982 - lr: 2.4010e-04\n",
            "Epoch 50/50\n",
            "4/4 [==============================] - 140s 35s/step - loss: 0.3312 - accuracy: 0.9533 - precision: 0.9533 - recall: 0.9533 - auc: 0.9841 - f1_score: 1.4190 - val_loss: 1.0835 - val_accuracy: 0.6522 - val_precision: 0.6522 - val_recall: 0.6522 - val_auc: 0.8565 - val_f1_score: 1.0045 - lr: 2.4010e-04\n"
          ]
        }
      ]
    },
    {
      "cell_type": "code",
      "source": [
        "acc = history.history['recall']\n",
        "val_acc = history.history['val_recall']\n",
        "loss = history.history['loss']\n",
        "val_loss = history.history['val_loss']\n",
        "epochs_range = range(len(history.history['val_loss']))\n",
        "plt.figure(figsize=(15, 10))\n",
        "plt.subplot(1, 2, 1)\n",
        "plt.scatter(epochs_range, acc, label='Training Recall')\n",
        "plt.scatter(epochs_range, val_acc, label='Validation Recall')\n",
        "plt.legend(loc='lower right')\n",
        "plt.title('Training and Validation Recall')\n",
        "plt.subplot(1, 2, 2)\n",
        "plt.scatter(epochs_range, loss, label='Training Loss')\n",
        "plt.scatter(epochs_range, val_loss, label='Validation Loss')\n",
        "plt.legend(loc='upper right')\n",
        "plt.title('Training and Validation Loss')\n",
        "plt.show()"
      ],
      "metadata": {
        "id": "5MggDok73gJW",
        "colab": {
          "base_uri": "https://localhost:8080/",
          "height": 607
        },
        "outputId": "3e2ed0a7-296d-4249-d4aa-1deb4860b591"
      },
      "execution_count": 36,
      "outputs": [
        {
          "output_type": "display_data",
          "data": {
            "text/plain": [
              "<Figure size 1080x720 with 2 Axes>"
            ],
            "image/png": "[encoded data removed]"
          },
          "metadata": {
            "needs_background": "light"
          }
        }
      ]
    },
    {
      "cell_type": "code",
      "source": [
        "def plot_confusion_matrix(cm, classes, normalize=True, title='Confusion matrix', cmap=plt.cm.Blues):\n",
        "    \n",
        "    plt.figure(figsize=(10,10))\n",
        "    plt.imshow(cm, interpolation='nearest', cmap=cmap)\n",
        "    plt.title(title)\n",
        "    plt.colorbar()\n",
        "    tick_marks = np.arange(len(classes))\n",
        "    plt.xticks(tick_marks, classes, rotation=45)\n",
        "    plt.yticks(tick_marks, classes)\n",
        "    if normalize:\n",
        "        cm = cm.astype('float') / cm.sum(axis=1)[:, np.newaxis]\n",
        "        cm = np.around(cm, decimals=2)\n",
        "        cm[np.isnan(cm)] = 0.0\n",
        "    thresh = cm.max() / 2.\n",
        "    for i, j in itertools.product(range(cm.shape[0]), range(cm.shape[1])):\n",
        "        plt.text(j, i, cm[i, j],\n",
        "                 horizontalalignment=\"center\",\n",
        "                 color=\"white\" if cm[i, j] > thresh else \"black\")\n",
        "    plt.tight_layout()\n",
        "    plt.ylabel('True label')\n",
        "    plt.xlabel('Predicted label')\n",
        "    \n",
        "    \n",
        "y_pred1 = (model_Vgg16.predict(x_test) > 0.5).astype(\"int32\")\n",
        "\n",
        "y_test_c1 = np.argmax(y_test, axis=1)\n",
        "target_names = [\"Good posture\", \"indifferent posture\", \"Bad posture\"]\n",
        "\n",
        "Y_pred1 = np.argmax(model_Vgg16.predict(x_test),axis=1)\n",
        "print('Confusion Matrix')\n",
        "cm = confusion_matrix(y_test_c1, Y_pred1)\n",
        "plot_confusion_matrix(cm, target_names, normalize=False, title='Confusion Matrix')\n",
        "\n",
        "print('Classification Report')\n",
        "print(classification_report(y_test_c1, Y_pred1, target_names=target_names))\n"
      ],
      "metadata": {
        "colab": {
          "base_uri": "https://localhost:8080/",
          "height": 906
        },
        "id": "plj5-o0cVibs",
        "outputId": "f40762f0-fc59-4dab-8efa-d00cc2bab8b4"
      },
      "execution_count": 40,
      "outputs": [
        {
          "output_type": "stream",
          "name": "stdout",
          "text": [
            "Confusion Matrix\n",
            "Classification Report\n",
            "                     precision    recall  f1-score   support\n",
            "\n",
            "       Good posture       0.76      0.79      0.78        24\n",
            "indifferent posture       0.73      0.73      0.73        15\n",
            "        Bad posture       0.85      0.81      0.83        27\n",
            "\n",
            "           accuracy                           0.79        66\n",
            "          macro avg       0.78      0.78      0.78        66\n",
            "       weighted avg       0.79      0.79      0.79        66\n",
            "\n"
          ]
        },
        {
          "output_type": "display_data",
          "data": {
            "text/plain": [
              "<Figure size 720x720 with 2 Axes>"
            ],
            "image/png": "[encoded data removed]"
          },
          "metadata": {
            "needs_background": "light"
          }
        }
      ]
    },
    {
      "cell_type": "code",
      "source": [
        "TLA2 = tf.keras.applications.resnet50.ResNet50(input_shape=(225,225,3),include_top=False,weights=\"imagenet\")"
      ],
      "metadata": {
        "colab": {
          "base_uri": "https://localhost:8080/"
        },
        "id": "czuBA25sVqoR",
        "outputId": "01b522ad-85da-47a5-b73a-606654e5d530"
      },
      "execution_count": 41,
      "outputs": [
        {
          "output_type": "stream",
          "name": "stdout",
          "text": [
            "Downloading data from https://storage.googleapis.com/tensorflow/keras-applications/resnet/resnet50_weights_tf_dim_ordering_tf_kernels_notop.h5\n",
            "94773248/94765736 [==============================] - 2s 0us/step\n",
            "94781440/94765736 [==============================] - 2s 0us/step\n"
          ]
        }
      ]
    },
    {
      "cell_type": "code",
      "source": [
        "for layer in TLA2.layers[:-10]:\n",
        "    layer.trainable=False"
      ],
      "metadata": {
        "id": "YSygubflXJkW"
      },
      "execution_count": 42,
      "outputs": []
    },
    {
      "cell_type": "code",
      "source": [
        "model_resnet=Sequential()\n",
        "model_resnet.add(TLA2)\n",
        "model_resnet.add(Dropout(0.2))\n",
        "model_resnet.add(Flatten())\n",
        "model_resnet.add(Dense(128, activation='relu'))\n",
        "model_resnet.add(Dense(128, activation='relu'))\n",
        "model_resnet.add(Dense(3, activation='softmax'))\n",
        "model_resnet.summary()"
      ],
      "metadata": {
        "colab": {
          "base_uri": "https://localhost:8080/"
        },
        "id": "Tx8UzHcxXNOe",
        "outputId": "85269472-e390-407a-841e-ab671a48f1fd"
      },
      "execution_count": 43,
      "outputs": [
        {
          "output_type": "stream",
          "name": "stdout",
          "text": [
            "Model: \"sequential_2\"\n",
            "_________________________________________________________________\n",
            " Layer (type)                Output Shape              Param #   \n",
            "=================================================================\n",
            " resnet50 (Functional)       (None, 8, 8, 2048)        23587712  \n",
            "                                                                 \n",
            " dropout_2 (Dropout)         (None, 8, 8, 2048)        0         \n",
            "                                                                 \n",
            " flatten_2 (Flatten)         (None, 131072)            0         \n",
            "                                                                 \n",
            " dense_6 (Dense)             (None, 128)               16777344  \n",
            "                                                                 \n",
            " dense_7 (Dense)             (None, 128)               16512     \n",
            "                                                                 \n",
            " dense_8 (Dense)             (None, 3)                 387       \n",
            "                                                                 \n",
            "=================================================================\n",
            "Total params: 40,381,955\n",
            "Trainable params: 21,259,907\n",
            "Non-trainable params: 19,122,048\n",
            "_________________________________________________________________\n"
          ]
        }
      ]
    },
    {
      "cell_type": "code",
      "source": [
        "model_resnet.compile(optimizer='rmsprop', loss = tf.keras.losses.CategoricalCrossentropy(),metrics=METRICS)"
      ],
      "metadata": {
        "id": "mCaFytGUXSvT"
      },
      "execution_count": 44,
      "outputs": []
    },
    {
      "cell_type": "code",
      "source": [
        "%time\n",
        "history=model_resnet.fit(x_train,y_train,validation_data=(x_val,y_val),epochs = 50,verbose = 1,callbacks=[lrd,mcp,es])"
      ],
      "metadata": {
        "colab": {
          "base_uri": "https://localhost:8080/"
        },
        "id": "FKXJtksqXW7a",
        "outputId": "c579959a-a169-41a7-c9bd-3137612f0569"
      },
      "execution_count": 51,
      "outputs": [
        {
          "output_type": "stream",
          "name": "stdout",
          "text": [
            "CPU times: user 6 µs, sys: 0 ns, total: 6 µs\n",
            "Wall time: 13.1 µs\n"
          ]
        }
      ]
    },
    {
      "cell_type": "code",
      "source": [
        "acc = history.history['recall']\n",
        "val_acc = history.history['val_recall']\n",
        "loss = history.history['loss']\n",
        "val_loss = history.history['val_loss']\n",
        "epochs_range = range(len(history.history['val_loss']))\n",
        "plt.figure(figsize=(15, 10))\n",
        "plt.subplot(1, 2, 1)\n",
        "plt.scatter(epochs_range, acc, label='Training Recall')\n",
        "plt.scatter(epochs_range, val_acc, label='Validation Recall')\n",
        "plt.legend(loc='lower right')\n",
        "plt.title('Training and Validation Recall')\n",
        "plt.subplot(1, 2, 2)\n",
        "plt.scatter(epochs_range, loss, label='Training Loss')\n",
        "plt.scatter(epochs_range, val_loss, label='Validation Loss')\n",
        "plt.legend(loc='upper right')\n",
        "plt.title('Training and Validation Loss')\n",
        "plt.show()"
      ],
      "metadata": {
        "colab": {
          "base_uri": "https://localhost:8080/",
          "height": 607
        },
        "id": "AndPlt1TXcfr",
        "outputId": "cfbc3f63-0ab5-4eb3-a27e-41402fe435e2"
      },
      "execution_count": 49,
      "outputs": [
        {
          "output_type": "display_data",
          "data": {
            "text/plain": [
              "<Figure size 1080x720 with 2 Axes>"
            ],
            "image/png": "[encoded data removed]"
          },
          "metadata": {
            "needs_background": "light"
          }
        }
      ]
    },
    {
      "cell_type": "code",
      "source": [
        "def plot_confusion_matrix(cm, classes, normalize=True, title='Confusion matrix', cmap=plt.cm.Blues):\n",
        "    \n",
        "    plt.figure(figsize=(10,10))\n",
        "    plt.imshow(cm, interpolation='nearest', cmap=cmap)\n",
        "    plt.title(title)\n",
        "    plt.colorbar()\n",
        "    tick_marks = np.arange(len(classes))\n",
        "    plt.xticks(tick_marks, classes, rotation=45)\n",
        "    plt.yticks(tick_marks, classes)\n",
        "    if normalize:\n",
        "        cm = cm.astype('float') / cm.sum(axis=1)[:, np.newaxis]\n",
        "        cm = np.around(cm, decimals=2)\n",
        "        cm[np.isnan(cm)] = 0.0\n",
        "    thresh = cm.max() / 2.\n",
        "    for i, j in itertools.product(range(cm.shape[0]), range(cm.shape[1])):\n",
        "        plt.text(j, i, cm[i, j],\n",
        "                 horizontalalignment=\"center\",\n",
        "                 color=\"white\" if cm[i, j] > thresh else \"black\")\n",
        "    plt.tight_layout()\n",
        "    plt.ylabel('True label')\n",
        "    plt.xlabel('Predicted label')\n",
        "    \n",
        "    \n",
        "y_pred2 = (model_resnet.predict(x_test) > 0.5).astype(\"int32\")\n",
        "\n",
        "y_test_c2 = np.argmax(y_test, axis=1)\n",
        "target_names = [\"Good posture\", \"indifferent posture\", \"Bad posture\"]\n",
        "\n",
        "Y_pred2 = np.argmax(model_resnet.predict(x_test),axis=1)\n",
        "print('Confusion Matrix')\n",
        "cm = confusion_matrix(y_test_c2, Y_pred2)\n",
        "plot_confusion_matrix(cm, target_names, normalize=False, title='Confusion Matrix')\n",
        "\n",
        "print('Classification Report')\n",
        "print(classification_report(y_test_c2, Y_pred2, target_names=target_names))"
      ],
      "metadata": {
        "colab": {
          "base_uri": "https://localhost:8080/",
          "height": 912
        },
        "id": "Az_lVsCCeuDo",
        "outputId": "8ce60d23-267d-4b5d-93de-2cf71fcc2849"
      },
      "execution_count": 50,
      "outputs": [
        {
          "output_type": "stream",
          "name": "stdout",
          "text": [
            "Confusion Matrix\n",
            "Classification Report\n",
            "                     precision    recall  f1-score   support\n",
            "\n",
            "       Good posture       0.00      0.00      0.00        24\n",
            "indifferent posture       0.00      0.00      0.00        15\n",
            "        Bad posture       0.41      1.00      0.58        27\n",
            "\n",
            "           accuracy                           0.41        66\n",
            "          macro avg       0.14      0.33      0.19        66\n",
            "       weighted avg       0.17      0.41      0.24        66\n",
            "\n"
          ]
        },
        {
          "output_type": "display_data",
          "data": {
            "text/plain": [
              "<Figure size 720x720 with 2 Axes>"
            ],
            "image/png": "[encoded data removed]"
          },
          "metadata": {
            "needs_background": "light"
          }
        }
      ]
    },
    {
      "cell_type": "code",
      "source": [
        ""
      ],
      "metadata": {
        "id": "T6aJ3Yv8fFcu"
      },
      "execution_count": null,
      "outputs": []
    }
  ]
}